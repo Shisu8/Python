{
 "cells": [
  {
   "cell_type": "markdown",
   "id": "d3ddcacb",
   "metadata": {},
   "source": [
    "1. Age Calculator\n",
    "Write a Python program to ask for a user's name and year of birth, then calculate and display their age.\n",
    "\n",
    "2. Extract Car Names\n",
    "Extract car names from the following text:\n",
    "\n",
    "txt = 'LMaasleitbtui'\n",
    "3. Extract Car Names\n",
    "Extract car names from the following text:\n",
    "\n",
    "txt = 'MsaatmiazD'\n",
    "4. Extract Residence Area\n",
    "Extract the residence area from the following text:\n",
    "\n",
    "txt = \"I'am John. I am from London\"\n",
    "5. Reverse String\n",
    "Write a Python program that takes a user input string and prints it in reverse order.\n",
    "\n",
    "6. Count Vowels\n",
    "Write a Python program that counts the number of vowels in a given string.\n",
    "\n",
    "7. Find Maximum Value\n",
    "Write a Python program that takes a list of numbers as input and prints the maximum value.\n",
    "\n",
    "8. Check Palindrome\n",
    "Write a Python program that checks if a given word is a palindrome (reads the same forward and backward).\n",
    "\n",
    "9. Extract Email Domain\n",
    "Write a Python program that extracts and prints the domain from an email address provided by the user.\n",
    "\n",
    "10. Generate Random Password\n",
    "Write a Python program to generate a random password containing letters, digits, and special characters."
   ]
  },
  {
   "cell_type": "markdown",
   "id": "4fa0184b",
   "metadata": {},
   "source": [
    "1. Age Calculator\n",
    "Write a Python program to ask for a user's name and year of birth, then calculate and display their age."
   ]
  },
  {
   "cell_type": "code",
   "execution_count": 5,
   "id": "a5b5b9df",
   "metadata": {},
   "outputs": [
    {
     "name": "stdout",
     "output_type": "stream",
     "text": [
      "Hello  asd , your age is  24\n"
     ]
    }
   ],
   "source": [
    "from datetime import datetime\n",
    "Name=input(\"What is your name \")\n",
    "Year= int(input(\"what is your year of birth \"))\n",
    "current_datetime = datetime.now()\n",
    "current_year=current_datetime.year\n",
    "print(\"Hello \", Name, \", your age is \", current_year-Year)"
   ]
  },
  {
   "cell_type": "markdown",
   "id": "fd2244f9",
   "metadata": {},
   "source": [
    "2. Extract Car Names\n",
    "Extract car names from the following text:\n",
    "\n",
    "txt = 'LMaasleitbtui'"
   ]
  },
  {
   "cell_type": "code",
   "execution_count": 9,
   "id": "f0150fd4",
   "metadata": {},
   "outputs": [
    {
     "name": "stdout",
     "output_type": "stream",
     "text": [
      "Malibu\n",
      "Lasetti\n"
     ]
    }
   ],
   "source": [
    "txt='LMaasleitbtui'\n",
    "print(txt[1::2])\n",
    "print(txt[0::2])"
   ]
  },
  {
   "cell_type": "markdown",
   "id": "987d5dad",
   "metadata": {},
   "source": [
    "3. Extract Car Names\n",
    "Extract car names from the following text:\n",
    "\n",
    "txt = 'MsaatmiazD'"
   ]
  },
  {
   "cell_type": "code",
   "execution_count": 12,
   "id": "676a3544",
   "metadata": {},
   "outputs": [
    {
     "name": "stdout",
     "output_type": "stream",
     "text": [
      "Matiz\n",
      "Damas\n"
     ]
    }
   ],
   "source": [
    "txt = 'MsaatmiazD'\n",
    "print(txt[0::2])\n",
    "print(txt[-1::-2])\n"
   ]
  },
  {
   "cell_type": "markdown",
   "id": "a7f29c98",
   "metadata": {},
   "source": [
    "4. Extract Residence Area\n",
    "Extract the residence area from the following text:\n",
    "\n",
    "txt = \"I'am John. I am from London\""
   ]
  },
  {
   "cell_type": "code",
   "execution_count": 30,
   "id": "a1624458",
   "metadata": {},
   "outputs": [
    {
     "name": "stdout",
     "output_type": "stream",
     "text": [
      "London\n"
     ]
    }
   ],
   "source": [
    "txt = \"I'am John. I am from London\"\n",
    "print(txt[21::])"
   ]
  },
  {
   "cell_type": "markdown",
   "id": "ade31bd8",
   "metadata": {},
   "source": [
    "5. Reverse String\n",
    "Write a Python program that takes a user input string and prints it in reverse order.  "
   ]
  },
  {
   "cell_type": "code",
   "execution_count": 32,
   "id": "25653dd7",
   "metadata": {},
   "outputs": [
    {
     "name": "stdout",
     "output_type": "stream",
     "text": [
      "olleH\n"
     ]
    }
   ],
   "source": [
    "Text = input(\"Choose your text \")\n",
    "print(Text[::-1])"
   ]
  },
  {
   "cell_type": "markdown",
   "id": "a3e14fa0",
   "metadata": {},
   "source": [
    "6. Count Vowels\n",
    "Write a Python program that counts the number of vowels in a given string."
   ]
  },
  {
   "cell_type": "code",
   "execution_count": null,
   "id": "f3067c9d",
   "metadata": {},
   "outputs": [
    {
     "name": "stdout",
     "output_type": "stream",
     "text": [
      "4 helloia\n"
     ]
    }
   ],
   "source": [
    "Text = input(\"Choose your text \")\n",
    "text=Text.lower()\n",
    "a=text.count(\"a\",0)+text.count(\"e\",0)+text.count(\"i\",0)+text.count(\"o\",0)\n",
    "print(a)"
   ]
  },
  {
   "cell_type": "markdown",
   "id": "ac771c4a",
   "metadata": {},
   "source": [
    "7. Find Maximum Value\n",
    "Write a Python program that takes a list of numbers as input and prints the maximum value."
   ]
  },
  {
   "cell_type": "code",
   "execution_count": null,
   "id": "d1de5188",
   "metadata": {},
   "outputs": [
    {
     "name": "stdout",
     "output_type": "stream",
     "text": [
      "23423423\n"
     ]
    }
   ],
   "source": [
    "\n",
    "new_list=input(\"Choose your numbers wisely with space \").split()\n",
    "max_value = max(list(map(int, new_list)))\n",
    "print(max_value)\n",
    "##Approved\n"
   ]
  },
  {
   "cell_type": "markdown",
   "id": "654ee4dd",
   "metadata": {},
   "source": [
    "8. Check Palindrome\n",
    "Write a Python program that checks if a given word is a palindrome (reads the same forward and backward)."
   ]
  },
  {
   "cell_type": "code",
   "execution_count": 22,
   "id": "44730569",
   "metadata": {},
   "outputs": [
    {
     "name": "stdout",
     "output_type": "stream",
     "text": [
      "It is a palindrome\n"
     ]
    }
   ],
   "source": [
    "txt = input (\"Give me a palindrome   \")\n",
    "if txt==txt[::-1]:\n",
    "   print( \"It is a palindrome\")    \n",
    "else:\n",
    "    print(\"It is not a palindrome\")"
   ]
  },
  {
   "cell_type": "markdown",
   "id": "b6ef97e2",
   "metadata": {},
   "source": [
    "9. Extract Email Domain\n",
    "Write a Python program that extracts and prints the domain from an email address provided by the user."
   ]
  },
  {
   "cell_type": "code",
   "execution_count": 28,
   "id": "382d930c",
   "metadata": {},
   "outputs": [
    {
     "name": "stdout",
     "output_type": "stream",
     "text": [
      "doge.ru\n"
     ]
    }
   ],
   "source": [
    "email=input(\"Enter your your damn email \")\n",
    "print(email[email.find(\"@\")+1::])"
   ]
  },
  {
   "cell_type": "markdown",
   "id": "e4d64028",
   "metadata": {},
   "source": [
    "10. Generate Random Password\n",
    "Write a Python program to generate a random password containing letters, digits, and special characters."
   ]
  },
  {
   "cell_type": "code",
   "execution_count": 29,
   "id": "098bdcb3",
   "metadata": {},
   "outputs": [
    {
     "name": "stdout",
     "output_type": "stream",
     "text": [
      "VdyGe6_lltU\n"
     ]
    }
   ],
   "source": [
    "import secrets\n",
    "\n",
    "password_length = 8\n",
    "print(secrets.token_urlsafe(password_length))"
   ]
  }
 ],
 "metadata": {
  "kernelspec": {
   "display_name": "Python 3",
   "language": "python",
   "name": "python3"
  },
  "language_info": {
   "codemirror_mode": {
    "name": "ipython",
    "version": 3
   },
   "file_extension": ".py",
   "mimetype": "text/x-python",
   "name": "python",
   "nbconvert_exporter": "python",
   "pygments_lexer": "ipython3",
   "version": "3.13.7"
  }
 },
 "nbformat": 4,
 "nbformat_minor": 5
}
