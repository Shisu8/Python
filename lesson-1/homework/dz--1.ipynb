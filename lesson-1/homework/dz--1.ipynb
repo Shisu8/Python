{
 "cells": [
  {
   "cell_type": "markdown",
   "id": "0df815ea",
   "metadata": {},
   "source": [
    "Given a side of square. Find its perimeter and area.\n"
   ]
  },
  {
   "cell_type": "code",
   "execution_count": 10,
   "id": "8b0db7c8",
   "metadata": {},
   "outputs": [
    {
     "name": "stdout",
     "output_type": "stream",
     "text": [
      "Perimeter is  40 and area is  100\n"
     ]
    }
   ],
   "source": [
    "a = input(\"Choose your number \")\n",
    "print (\"Perimeter is \",int(a)*4, \"and area is \", int(a)**2)"
   ]
  },
  {
   "cell_type": "markdown",
   "id": "2d6e3bb9",
   "metadata": {},
   "source": [
    "Given diameter of circle. Find its length.\n"
   ]
  },
  {
   "cell_type": "code",
   "execution_count": 13,
   "id": "6f18021d",
   "metadata": {},
   "outputs": [
    {
     "name": "stdout",
     "output_type": "stream",
     "text": [
      "Length of a circle is  6.283185307179586\n"
     ]
    }
   ],
   "source": [
    "import math\n",
    "a = input(\"Choose your number \")\n",
    "print (\"Length of a circle is \", float(a)*math.pi*2)"
   ]
  },
  {
   "cell_type": "markdown",
   "id": "7e4d858c",
   "metadata": {},
   "source": [
    "Given two numbers a and b. Find their mean.\n"
   ]
  },
  {
   "cell_type": "code",
   "execution_count": 2,
   "id": "153a878e",
   "metadata": {},
   "outputs": [
    {
     "name": "stdout",
     "output_type": "stream",
     "text": [
      "12.5\n"
     ]
    }
   ],
   "source": [
    "a=int(input(\"Select your number a \"))\n",
    "b=int(input(\"Select your number b \"))\n",
    "print((a+b)/2)"
   ]
  },
  {
   "cell_type": "markdown",
   "id": "e7de5db9",
   "metadata": {},
   "source": [
    "Given two numbers a and b. Find their sum, product and square of each number."
   ]
  },
  {
   "cell_type": "code",
   "execution_count": 3,
   "id": "4a6af992",
   "metadata": {},
   "outputs": [
    {
     "name": "stdout",
     "output_type": "stream",
     "text": [
      "Sum =  8\n",
      "Products =  15\n",
      "Squares A= 9 Squares B= 25\n"
     ]
    }
   ],
   "source": [
    "a=int(input(\"Select your number a \"))\n",
    "b=int(input(\"Select your number b \"))\n",
    "print(\"Sum = \", a+b)\n",
    "print(\"Products = \", a*b)\n",
    "print(\"Squares A=\",a**2, \"Squares B=\",b**2 )"
   ]
  }
 ],
 "metadata": {
  "kernelspec": {
   "display_name": "Python 3",
   "language": "python",
   "name": "python3"
  },
  "language_info": {
   "codemirror_mode": {
    "name": "ipython",
    "version": 3
   },
   "file_extension": ".py",
   "mimetype": "text/x-python",
   "name": "python",
   "nbconvert_exporter": "python",
   "pygments_lexer": "ipython3",
   "version": "3.13.7"
  }
 },
 "nbformat": 4,
 "nbformat_minor": 5
}
