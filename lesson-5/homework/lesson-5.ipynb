{
 "cells": [
  {
   "cell_type": "markdown",
   "id": "a5aa2f6c",
   "metadata": {},
   "source": [
    "Homework:"
   ]
  },
  {
   "cell_type": "markdown",
   "id": "1b3d5445",
   "metadata": {},
   "source": [
    "def is_leap(year): \"\"\" Determines whether a given year is a leap year.\n",
    "\n",
    "A year is a leap year if:\n",
    "- It is divisible by 4, and\n",
    "- It is NOT divisible by 100, unless it is also divisible by 400.\n",
    "\n",
    "Parameters:\n",
    "year (int): The year to be checked.\n",
    "\n",
    "Returns:\n",
    "bool: True if the year is a leap year, False otherwise.\n",
    "\"\"\"\n",
    "if not isinstance(year, int):\n",
    "    raise ValueError(\"Year must be an integer.\")\n",
    "\n",
    "return (year % 4 == 0 and year % 100 != 0) or (year % 400 == 0)"
   ]
  },
  {
   "cell_type": "code",
   "execution_count": 18,
   "id": "db8ce079",
   "metadata": {},
   "outputs": [
    {
     "name": "stdout",
     "output_type": "stream",
     "text": [
      "False\n"
     ]
    }
   ],
   "source": [
    "def is_leap(year):\n",
    "    if not isinstance(year, int) or year<0:\n",
    "        raise ValueError(\"Year must be an integer or greater than 0.\")\n",
    "    else:\n",
    "        return (year % 4 == 0 and year % 100!=0) or (year%400==0)\n",
    "\n",
    "a=is_leap(22)\n",
    "print(a)\n",
    "\n",
    "\n",
    "    \n",
    "\n",
    "\n"
   ]
  },
  {
   "cell_type": "markdown",
   "id": "63150c72",
   "metadata": {},
   "source": [
    "2. Conditional Statements Exercise\n",
    "Given an integer, n, perform the following conditional actions:\n",
    "\n",
    "If n is odd, print Weird\n",
    "If n is even and in the inclusive range of 2 to 5, print Not Weird\n",
    "If n is even and in the inclusive range of 6 to 20, print Weird\n",
    "If n is even and greater than 20, print Not Weird\n",
    "Input Format\n",
    "A single line containing a positive integer, n.\n",
    "\n",
    "Constraints\n",
    "1 <= n <= 100\n",
    "Output Format\n",
    "Print Weird if the number is weird. Otherwise, print Not Weird.\n",
    "\n",
    "Sample Input 0\n",
    "\n"
   ]
  },
  {
   "cell_type": "code",
   "execution_count": null,
   "id": "4de8ef28",
   "metadata": {},
   "outputs": [],
   "source": [
    "def Weirdnumbers(n:int):\n",
    "    if not isinstance(n, int) or (n>100 or n<0):\n",
    "        raise ValueError(\"Wrong input\")\n",
    "    elif n%2==1 or (6 <= n <= 20):\n",
    "        print(f'{n} is a weird number')\n",
    "    else:\n",
    "        print(f'{n} is not a weird number')\n",
    "\n",
    "a=int(input(\"Pick a number between 1 and 100\"))\n",
    "Weirdnumbers(a)\n"
   ]
  },
  {
   "cell_type": "markdown",
   "id": "66d02538",
   "metadata": {},
   "source": [
    "\n",
    "Given two integer numbers a and b. Find even numbers between this numbers. a and b are inclusive. Don't use loop.\n",
    "Give two solutions.\n",
    "\n",
    "Solution 1 with if-else statement.\n",
    "\n",
    "Solution 2 without if-else statement."
   ]
  },
  {
   "cell_type": "code",
   "execution_count": null,
   "id": "ba10a564",
   "metadata": {},
   "outputs": [
    {
     "name": "stdout",
     "output_type": "stream",
     "text": [
      "[]\n"
     ]
    }
   ],
   "source": [
    "newlist=[]\n",
    "def evenity (a:int,b:int):\n",
    "    for n in range(a,b+1):\n",
    "        if n%2==0:\n",
    "            newlist.append(n)\n",
    "evenity(1,7)\n",
    "print(newlist)"
   ]
  },
  {
   "cell_type": "code",
   "execution_count": null,
   "id": "f3e10c42",
   "metadata": {},
   "outputs": [],
   "source": [
    "#no solution on this part sadly\n"
   ]
  }
 ],
 "metadata": {
  "kernelspec": {
   "display_name": "Python 3",
   "language": "python",
   "name": "python3"
  },
  "language_info": {
   "codemirror_mode": {
    "name": "ipython",
    "version": 3
   },
   "file_extension": ".py",
   "mimetype": "text/x-python",
   "name": "python",
   "nbconvert_exporter": "python",
   "pygments_lexer": "ipython3",
   "version": "3.13.7"
  }
 },
 "nbformat": 4,
 "nbformat_minor": 5
}
