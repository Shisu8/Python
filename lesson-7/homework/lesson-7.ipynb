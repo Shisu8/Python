{
 "cells": [
  {
   "cell_type": "markdown",
   "id": "57d426c1",
   "metadata": {},
   "source": [
    "1. is_prime(n) funksiyasi\n",
    "is_prime(n) funksiyasini hosil qiling (n > 0). Agar n soni tub bo'lsa True, aks holda False qiymat qaytarsin.\n",
    "\n",
    "Misollar:\n",
    "Kiritish:\n",
    "4\n",
    "Natija:\n",
    "False\n",
    "(Izoh: 4 soni tub emas, chunki u 2 ga bo'linadi.)\n",
    "\n",
    "Kiritish:\n",
    "7\n",
    "Natija:\n",
    "True\n",
    "(Izoh: 7 soni faqat 1 va o'ziga bo'linadi, ya'ni tub son.)\n"
   ]
  },
  {
   "cell_type": "code",
   "execution_count": 99,
   "id": "de3f24ac",
   "metadata": {},
   "outputs": [
    {
     "name": "stdout",
     "output_type": "stream",
     "text": [
      "False\n"
     ]
    }
   ],
   "source": [
    "\n",
    "def prime(number:int):\n",
    "    for i in range (2,number):\n",
    "        Primal=True\n",
    "        if number%i==0:\n",
    "            Primal=False\n",
    "            print(False)\n",
    "            break\n",
    "    if i==number-1 and Primal==True:\n",
    "        print(True)\n",
    "\n",
    "        \n",
    "        \n",
    "prime(20)"
   ]
  },
  {
   "cell_type": "markdown",
   "id": "0db229e8",
   "metadata": {},
   "source": [
    "2. digit_sum(k) funksiyasi\n",
    "digit_sum(k) funksiyasini yozing, u k sonining raqamlari yig'indisini hisoblaydi.\n",
    "\n",
    "Misollar:\n",
    "Kiritish:\n",
    "24\n",
    "Natija:\n",
    "6\n",
    "(Izoh: 24 sonining raqamlari yig'indisi: 2 + 4 = 6.)\n",
    "\n",
    "Kiritish:\n",
    "502\n",
    "Natija:\n",
    "7\n",
    "(Izoh: 502 sonining raqamlari yig'indisi: 5 + 0 + 2 = 7.)"
   ]
  },
  {
   "cell_type": "code",
   "execution_count": 118,
   "id": "44e88717",
   "metadata": {},
   "outputs": [
    {
     "data": {
      "text/plain": [
       "14"
      ]
     },
     "execution_count": 118,
     "metadata": {},
     "output_type": "execute_result"
    }
   ],
   "source": [
    "\n",
    "def digit_sum(k:int):\n",
    "    list=[]\n",
    "    sum=0\n",
    "    for i in range(0,len(str(k))):\n",
    "        string=str(k)\n",
    "        list.append(string[i])\n",
    "        sum=sum+int(list[i])\n",
    "    return sum\n",
    "digit_sum(95)\n"
   ]
  },
  {
   "cell_type": "markdown",
   "id": "78a3efa5",
   "metadata": {},
   "source": [
    "\n",
    "3. Ikki sonning darajalari\n",
    "Berilgan N sonidan oshmaydigan barcha 2 ning darajalarini (ya'ni, 2**k shaklidagi sonlarni) chop etuvchi funksiyani yozing.\n",
    "\n",
    "Misol:\n",
    "Kiritish:\n",
    "10\n",
    "Natija:\n",
    "2 4 8\n",
    "(Izoh: 10 dan kichik yoki teng bo'lgan 2 ning darajalari: 2, 4, 8.)"
   ]
  },
  {
   "cell_type": "code",
   "execution_count": 121,
   "id": "f7909249",
   "metadata": {},
   "outputs": [
    {
     "name": "stdout",
     "output_type": "stream",
     "text": [
      "2\n",
      "4\n",
      "8\n",
      "16\n"
     ]
    }
   ],
   "source": [
    "def duality(N:int):\n",
    "    i=1\n",
    "    while 2**i<=N:\n",
    "        print(2**i)\n",
    "        i+=1\n",
    "duality(16)\n"
   ]
  }
 ],
 "metadata": {
  "kernelspec": {
   "display_name": "Python 3",
   "language": "python",
   "name": "python3"
  },
  "language_info": {
   "codemirror_mode": {
    "name": "ipython",
    "version": 3
   },
   "file_extension": ".py",
   "mimetype": "text/x-python",
   "name": "python",
   "nbconvert_exporter": "python",
   "pygments_lexer": "ipython3",
   "version": "3.13.7"
  }
 },
 "nbformat": 4,
 "nbformat_minor": 5
}
