{
 "cells": [
  {
   "cell_type": "markdown",
   "id": "92396eb7",
   "metadata": {},
   "source": [
    "\n",
    "\n",
    "\n",
    "\n",
    "\n",
    "\n",
    "\n",
    "\n",
    "\n",
    "\n",
    "\n"
   ]
  },
  {
   "cell_type": "markdown",
   "id": "e906790e",
   "metadata": {},
   "source": [
    "1. Sort a Dictionary by Value\n",
    "Write a Python script to sort (ascending and descending) a dictionary by value."
   ]
  },
  {
   "cell_type": "code",
   "execution_count": null,
   "id": "d592ec59",
   "metadata": {},
   "outputs": [
    {
     "name": "stdout",
     "output_type": "stream",
     "text": [
      "ASC {2: 10, 1: 15}, DESC {2: 10, 1: 15}\n"
     ]
    }
   ],
   "source": [
    "\n",
    "dic={1:15,2:10}\n",
    "desc=dict(sorted(dic.items(), key=lambda item: item[1],reverse=True))\n",
    "asc=dict(sorted(dic.items(), key=lambda item: item[1],reverse=False))\n",
    "print(f'ASC {asc}, DESC {desc}')"
   ]
  },
  {
   "cell_type": "markdown",
   "id": "b19c0f5b",
   "metadata": {},
   "source": [
    "2. Add a Key to a Dictionary\n",
    "Write a Python script to add a key to a dictionary.\n",
    "\n",
    "Sample Dictionary:\n",
    "\n",
    "{0: 10, 1: 20}\n",
    "Expected Result:\n",
    "\n",
    "{0: 10, 1: 20, 2: 30}"
   ]
  },
  {
   "cell_type": "code",
   "execution_count": 32,
   "id": "e9296c3b",
   "metadata": {},
   "outputs": [
    {
     "name": "stdout",
     "output_type": "stream",
     "text": [
      "{0: 10, 1: 20, 2: 30}\n"
     ]
    }
   ],
   "source": [
    "Sample = {0: 10, 1: 20}\n",
    "Sample.update({2:30})\n",
    "print(Sample)"
   ]
  },
  {
   "cell_type": "markdown",
   "id": "115fe953",
   "metadata": {},
   "source": [
    "3. Concatenate Multiple Dictionaries\n",
    "Write a Python script to concatenate the following dictionaries to create a new one.\n",
    "\n",
    "Sample Dictionaries:\n",
    "\n",
    "dic1 = {1: 10, 2: 20}\n",
    "dic2 = {3: 30, 4: 40}\n",
    "dic3 = {5: 50, 6: 60}\n",
    "Expected Result:\n",
    "\n",
    "{1: 10, 2: 20, 3: 30, 4: 40, 5: 50, 6: 60}"
   ]
  },
  {
   "cell_type": "code",
   "execution_count": 38,
   "id": "57d77ad4",
   "metadata": {},
   "outputs": [
    {
     "name": "stdout",
     "output_type": "stream",
     "text": [
      "{1: 10, 2: 20, 3: 30, 4: 40, 5: 50, 6: 60}\n"
     ]
    }
   ],
   "source": [
    "dic1 = {1: 10, 2: 20}\n",
    "dic2 = {3: 30, 4: 40}\n",
    "dic3 = {5: 50, 6: 60}\n",
    "merged_dict={**dic1,**dic2,**dic3}\n",
    "print(merged_dict)"
   ]
  },
  {
   "cell_type": "markdown",
   "id": "3304bacf",
   "metadata": {},
   "source": [
    "4. Generate a Dictionary with Squares\n",
    "Write a Python script to generate and print a dictionary that contains a number (between 1 and n) in the form (x, x*x).\n",
    "\n",
    "Sample Dictionary (n = 5):\n",
    "\n",
    "{1: 1, 2: 4, 3: 9, 4: 16, 5: 25}"
   ]
  },
  {
   "cell_type": "code",
   "execution_count": 44,
   "id": "445bb4ac",
   "metadata": {},
   "outputs": [
    {
     "name": "stdout",
     "output_type": "stream",
     "text": [
      "{1: 1, 2: 4, 3: 9, 4: 16, 5: 25, 6: 36}\n"
     ]
    }
   ],
   "source": [
    "dictionary={}\n",
    "n=int(input(\"Input your number hear\"))\n",
    "for n in range(1,n+1):\n",
    "    dictionary.update({n:n*n})\n",
    "print(dictionary)"
   ]
  },
  {
   "cell_type": "markdown",
   "id": "daaa960a",
   "metadata": {},
   "source": [
    "5. Dictionary of Squares (1 to 15)\n",
    "Write a Python script to print a dictionary where the keys are numbers between 1 and 15 (both included) and the values are the square of the keys.\n",
    "\n",
    "Expected Output:\n",
    "\n",
    "{1: 1, 2: 4, 3: 9, 4: 16, 5: 25, 6: 36, 7: 49, 8: 64, 9: 81, 10: 100, 11: 121, 12: 144, 13: 169, 14: 196, 15: 225}"
   ]
  },
  {
   "cell_type": "code",
   "execution_count": 46,
   "id": "612cf94e",
   "metadata": {},
   "outputs": [
    {
     "name": "stdout",
     "output_type": "stream",
     "text": [
      "{1: 1, 2: 4, 3: 9, 4: 16, 5: 25, 6: 36, 7: 49, 8: 64, 9: 81, 10: 100, 11: 121, 12: 144, 13: 169, 14: 196, 15: 225}\n"
     ]
    }
   ],
   "source": [
    "dictionary2={}\n",
    "n=15\n",
    "for n in range(1,n+1):\n",
    "    dictionary2.update({n:n*n})\n",
    "print(dictionary2)"
   ]
  },
  {
   "cell_type": "markdown",
   "id": "e85af4dd",
   "metadata": {},
   "source": [
    "Set Exercises\n",
    "1. Create a Set\n",
    "Write a Python program to create a set."
   ]
  },
  {
   "cell_type": "code",
   "execution_count": 93,
   "id": "581824d6",
   "metadata": {},
   "outputs": [
    {
     "name": "stdout",
     "output_type": "stream",
     "text": [
      "{1, 2, 3, 4, 5, 6, 7, 8, 9, 10}\n"
     ]
    }
   ],
   "source": [
    "\n",
    "set={1,2,3,4,5,6,7,8,9,10}\n",
    "print(set)"
   ]
  },
  {
   "cell_type": "markdown",
   "id": "edc11823",
   "metadata": {},
   "source": [
    "2. Iterate Over a Set\n",
    "Write a Python program to iterate over sets."
   ]
  },
  {
   "cell_type": "code",
   "execution_count": 82,
   "id": "98959125",
   "metadata": {},
   "outputs": [
    {
     "name": "stdout",
     "output_type": "stream",
     "text": [
      "1\n",
      "2\n",
      "3\n",
      "4\n",
      "5\n",
      "6\n",
      "7\n",
      "8\n",
      "9\n",
      "10\n",
      "11\n",
      "12\n",
      "113\n"
     ]
    }
   ],
   "source": [
    "for x in set:\n",
    "    print(x)"
   ]
  },
  {
   "cell_type": "markdown",
   "id": "48d0754e",
   "metadata": {},
   "source": [
    "3. Add Member(s) to a Set\n",
    "Write a Python program to add member(s) to a set."
   ]
  },
  {
   "cell_type": "code",
   "execution_count": null,
   "id": "9cfc5db1",
   "metadata": {},
   "outputs": [],
   "source": [
    "n=int(input(\"What number do you wish to add ?\"))\n",
    "set.update({n})\n",
    "print(set)"
   ]
  },
  {
   "cell_type": "markdown",
   "id": "686de735",
   "metadata": {},
   "source": [
    "\n",
    "4. Remove Item(s) from a Set\n",
    "Write a Python program to remove item(s) from a given set."
   ]
  },
  {
   "cell_type": "code",
   "execution_count": 92,
   "id": "7138da65",
   "metadata": {},
   "outputs": [
    {
     "name": "stdout",
     "output_type": "stream",
     "text": [
      "{6, 7, 8, 9, 10, 11, 12, 113}\n"
     ]
    }
   ],
   "source": [
    "set.discard(min(set))\n",
    "print(set)"
   ]
  },
  {
   "cell_type": "markdown",
   "id": "e50e64ba",
   "metadata": {},
   "source": [
    "\n",
    "\n",
    "5. Remove an Item if Present in the Set\n",
    "Write a Python program to remove an item from a set if it is present in the set."
   ]
  },
  {
   "cell_type": "code",
   "execution_count": 28,
   "id": "806aa96a",
   "metadata": {},
   "outputs": [
    {
     "ename": "TypeError",
     "evalue": "'str' object is not callable",
     "output_type": "error",
     "traceback": [
      "\u001b[31m---------------------------------------------------------------------------\u001b[39m",
      "\u001b[31mTypeError\u001b[39m                                 Traceback (most recent call last)",
      "\u001b[36mCell\u001b[39m\u001b[36m \u001b[39m\u001b[32mIn[28]\u001b[39m\u001b[32m, line 1\u001b[39m\n\u001b[32m----> \u001b[39m\u001b[32m1\u001b[39m \u001b[38;5;28minput\u001b[39m = \u001b[38;5;28;43minput\u001b[39;49m\u001b[43m(\u001b[49m\u001b[33;43m\"\u001b[39;49m\u001b[33;43myour input is \u001b[39;49m\u001b[33;43m\"\u001b[39;49m\u001b[43m)\u001b[49m\n\u001b[32m      2\u001b[39m \u001b[38;5;28;01mif\u001b[39;00m  \u001b[38;5;28minput\u001b[39m \u001b[38;5;129;01min\u001b[39;00m \u001b[38;5;28mset\u001b[39m:\n\u001b[32m      3\u001b[39m     \u001b[38;5;28mset\u001b[39m.discard(\u001b[38;5;28minput\u001b[39m)\n",
      "\u001b[31mTypeError\u001b[39m: 'str' object is not callable"
     ]
    }
   ],
   "source": [
    "input = input(\"your input is \")\n",
    "if  input in set:\n",
    "    set.discard(input)\n",
    "else:\n",
    "    print(\"there no such element in the set\")\n",
    "print(set)"
   ]
  },
  {
   "cell_type": "code",
   "execution_count": 2,
   "id": "f7acbd3f",
   "metadata": {},
   "outputs": [
    {
     "name": "stdout",
     "output_type": "stream",
     "text": [
      "{1, 'a', 4, 6, 't', 11}\n"
     ]
    }
   ],
   "source": [
    "print(set)"
   ]
  }
 ],
 "metadata": {
  "kernelspec": {
   "display_name": "Python 3",
   "language": "python",
   "name": "python3"
  },
  "language_info": {
   "codemirror_mode": {
    "name": "ipython",
    "version": 3
   },
   "file_extension": ".py",
   "mimetype": "text/x-python",
   "name": "python",
   "nbconvert_exporter": "python",
   "pygments_lexer": "ipython3",
   "version": "3.13.7"
  }
 },
 "nbformat": 4,
 "nbformat_minor": 5
}
