{
 "cells": [
  {
   "cell_type": "markdown",
   "id": "7f08d886",
   "metadata": {},
   "source": [
    "Write a Python program to handle a ZeroDivisionError exception when dividing a number by zero."
   ]
  },
  {
   "cell_type": "code",
   "execution_count": null,
   "id": "7ab50349",
   "metadata": {},
   "outputs": [],
   "source": [
    "\n",
    "b=int(input(\"Choose your numbers\"))\n",
    "a=int(input(\"Choose your numbers\"))\n",
    "if a==0 or b==0:\n",
    "    raise ZeroDivisionError(\"fuck you\")\n",
    "else:\n",
    "    print(a/b, b/a)\n"
   ]
  },
  {
   "cell_type": "markdown",
   "id": "d16d72dd",
   "metadata": {},
   "source": [
    "Write a Python program that prompts the user to input an integer and raises a ValueError exception if the input is not a valid integer.\n"
   ]
  },
  {
   "cell_type": "code",
   "execution_count": null,
   "id": "25e05429",
   "metadata": {},
   "outputs": [],
   "source": [
    "date_of_birth=int(input(\"What is your Year of birth\"))\n",
    "\n",
    "if not 1900<date_of_birth<2025:\n",
    "    raise ValueError(\"Wrong value\")\n",
    "else:\n",
    "    print(f'you are {2025-date_of_birth} years old')\n"
   ]
  },
  {
   "cell_type": "markdown",
   "id": "e7661f02",
   "metadata": {},
   "source": [
    "Write a Python program that opens a file and handles a FileNotFoundError exception if the file does not exist."
   ]
  },
  {
   "cell_type": "code",
   "execution_count": null,
   "id": "f6168762",
   "metadata": {},
   "outputs": [],
   "source": [
    "\n",
    "import os\n",
    "\n",
    "file_name = \"11.py\"\n",
    "if os.path.isfile(file_name):\n",
    "    with open(file_name, 'r') as file:\n",
    "        print(file.read())\n",
    "else:\n",
    "    print(\"File not found\")"
   ]
  },
  {
   "cell_type": "markdown",
   "id": "7f19a99f",
   "metadata": {},
   "source": [
    "Write a Python program that prompts the user to input two numbers and raises a TypeError exception if the inputs are not numerical."
   ]
  },
  {
   "cell_type": "code",
   "execution_count": null,
   "id": "be6b5579",
   "metadata": {},
   "outputs": [],
   "source": []
  },
  {
   "cell_type": "code",
   "execution_count": null,
   "id": "c7438e16",
   "metadata": {},
   "outputs": [],
   "source": [
    "\n",
    "try:\n",
    "    a=int(input(\"choose a number\"))\n",
    "    b=int(input(\"choose a number\") )\n",
    "except ValueError:\n",
    "    raise TypeError(\"OOOPS wrong input\")"
   ]
  },
  {
   "cell_type": "markdown",
   "id": "e7005317",
   "metadata": {},
   "source": [
    "Write a Python program that opens a file and handles a PermissionError exception if there is a permission issue.\n"
   ]
  },
  {
   "cell_type": "code",
   "execution_count": null,
   "id": "cd57ac07",
   "metadata": {},
   "outputs": [],
   "source": [
    "\n",
    "try:\n",
    "    a= open(r\"C:\\Program Files\\7-Zip\\readme.txt\")\n",
    "    print(a.read())\n",
    "except PermissionError:\n",
    "    print(\"Sorry but it is not for you to see\")"
   ]
  },
  {
   "cell_type": "markdown",
   "id": "2a63bb8b",
   "metadata": {},
   "source": [
    "Write a Python program that executes an operation on a list and handles an IndexError exception if the index is out of range.\n"
   ]
  },
  {
   "cell_type": "code",
   "execution_count": null,
   "id": "cbe1abb6",
   "metadata": {},
   "outputs": [],
   "source": [
    "list=[\"asdasdasdasdasdasda\"]\n",
    "try:\n",
    "    for i in range(0,len(list)+1):\n",
    "        print(list[i])\n",
    "except IndexError:\n",
    "    print(\"Check for the index, it should be shorter\")\n"
   ]
  },
  {
   "cell_type": "markdown",
   "id": "04951a29",
   "metadata": {},
   "source": [
    "Write a Python program that prompts the user to input a number and handles a KeyboardInterrupt exception if the user cancels the input."
   ]
  },
  {
   "cell_type": "code",
   "execution_count": null,
   "id": "23e3903a",
   "metadata": {},
   "outputs": [],
   "source": [
    "try:\n",
    "    a=input(\"Pick a number\")\n",
    "except KeyboardInterrupt:\n",
    "    print(\"You cancelled everything, I cannot believe you\")"
   ]
  },
  {
   "cell_type": "markdown",
   "id": "0d27f6e6",
   "metadata": {},
   "source": [
    "Write a Python program that executes division and handles an ArithmeticError exception if there is an arithmetic error.\n"
   ]
  },
  {
   "cell_type": "code",
   "execution_count": null,
   "id": "7fd5c334",
   "metadata": {},
   "outputs": [],
   "source": [
    "try:\n",
    "    dividend = 10\n",
    "    divisor = 0\n",
    "    result = dividend / divisor\n",
    "    print(f\"The result is: {result}\")\n",
    "except ZeroDivisionError:\n",
    "    print(\"Error: Cannot divide by zero!\")\n",
    "except ValueError as e:\n",
    "    print(f\"Value Error: {e}\")\n",
    "except ArithmeticError: # Catches any other ArithmeticError subclasses\n",
    "    print(\"An unexpected arithmetic error occurred.\")"
   ]
  },
  {
   "cell_type": "markdown",
   "id": "31335e45",
   "metadata": {},
   "source": [
    "Write a Python program that opens a file and handles a UnicodeDecodeError exception if there is an encoding issue.\n"
   ]
  },
  {
   "cell_type": "code",
   "execution_count": null,
   "id": "85de15c2",
   "metadata": {},
   "outputs": [],
   "source": [
    "try:\n",
    "    a= open(r\"C:\\Program Files\\7-Zip\\readme.txt\")\n",
    "    print(a.read())\n",
    "except UnicodeDecodeError:\n",
    "    print(\"Wrong unicode\")"
   ]
  },
  {
   "cell_type": "markdown",
   "id": "0093cb36",
   "metadata": {},
   "source": [
    "Write a Python program that executes a list operation and handles an AttributeError exception if the attribute does not exist."
   ]
  },
  {
   "cell_type": "code",
   "execution_count": null,
   "id": "78aeafe7",
   "metadata": {},
   "outputs": [],
   "source": [
    "try:\n",
    "    a=5\n",
    "    a.remove('a')\n",
    "    print(a)\n",
    "except AttributeError:\n",
    "   print( \"Wrong attribute you moron\")"
   ]
  },
  {
   "cell_type": "markdown",
   "id": "b2080520",
   "metadata": {},
   "source": [
    "Write a Python program to read an entire text file."
   ]
  },
  {
   "cell_type": "code",
   "execution_count": null,
   "id": "6667b346",
   "metadata": {},
   "outputs": [],
   "source": [
    "a= open(r\"C:\\Program Files\\7-Zip\\readme.txt\")\n",
    "print(a.read())\n",
    "a.close()"
   ]
  },
  {
   "cell_type": "markdown",
   "id": "14a78f51",
   "metadata": {},
   "source": [
    "Write a Python program to read first n lines of a file."
   ]
  },
  {
   "cell_type": "code",
   "execution_count": null,
   "id": "5acd2429",
   "metadata": {},
   "outputs": [],
   "source": [
    "n=5\n",
    "a= open(r\"C:\\Program Files\\7-Zip\\readme.txt\")\n",
    "for i in range(1,n):\n",
    "    print(a.readline())\n"
   ]
  },
  {
   "cell_type": "markdown",
   "id": "b9d2ff2b",
   "metadata": {},
   "source": [
    "\n",
    "Write a Python program to append text to a file and display the text."
   ]
  },
  {
   "cell_type": "code",
   "execution_count": null,
   "id": "25cc94e3",
   "metadata": {},
   "outputs": [],
   "source": [
    "with open(\"Text.txt\",\"a\") as file:\n",
    "    file.writelines(\"\\n Belissimo\")\n",
    "with open(\"Text.txt\") as file:\n",
    "    print(file.read())"
   ]
  },
  {
   "cell_type": "markdown",
   "id": "03fb7715",
   "metadata": {},
   "source": [
    "\n",
    "Write a Python program to read last n lines of a file."
   ]
  },
  {
   "cell_type": "code",
   "execution_count": null,
   "id": "7aaa70da",
   "metadata": {},
   "outputs": [],
   "source": [
    "\n",
    "with open(r\"C:\\Program Files\\7-Zip\\readme.txt\",'r') as file:\n",
    "    a=file.readlines()\n",
    "    for line in a:\n",
    "        print(line)"
   ]
  },
  {
   "cell_type": "markdown",
   "id": "b268c449",
   "metadata": {},
   "source": [
    "Write a Python program to read a file line by line and store it into a list."
   ]
  },
  {
   "cell_type": "code",
   "execution_count": null,
   "id": "9e59d4c1",
   "metadata": {},
   "outputs": [],
   "source": [
    "with open(r\"C:\\Program Files\\7-Zip\\readme.txt\",'r') as file:\n",
    "    a=file.readlines()\n",
    "\n",
    "type(a)\n"
   ]
  },
  {
   "cell_type": "markdown",
   "id": "8d3dec98",
   "metadata": {},
   "source": [
    "Write a Python program to read a file line by line and store it into an array.\n"
   ]
  },
  {
   "cell_type": "code",
   "execution_count": null,
   "id": "7ca667fc",
   "metadata": {},
   "outputs": [],
   "source": [
    "import array\n",
    "array=[]\n",
    "with open(r\"C:\\Program Files\\7-Zip\\readme.txt\",'r') as file:\n",
    "    a=file.readlines()\n",
    "    for line in a:\n",
    "        array.append(line)\n",
    "print(array)\n"
   ]
  },
  {
   "cell_type": "markdown",
   "id": "f59bd60f",
   "metadata": {},
   "source": [
    "Write a Python program to find the longest words."
   ]
  },
  {
   "cell_type": "code",
   "execution_count": null,
   "id": "2b2136cd",
   "metadata": {},
   "outputs": [],
   "source": [
    "with open(r\"C:\\Program Files\\7-Zip\\readme.txt\",'r') as file:\n",
    "    a=file.read().split()\n",
    "    longest_word=max(a,key=len)\n",
    "    print(longest_word)\n",
    "\n",
    "\n"
   ]
  },
  {
   "cell_type": "markdown",
   "id": "0c5ba168",
   "metadata": {},
   "source": [
    "Write a Python program to count the number of lines in a text file."
   ]
  },
  {
   "cell_type": "code",
   "execution_count": null,
   "id": "fb82340e",
   "metadata": {},
   "outputs": [],
   "source": [
    "import array\n",
    "array=[]\n",
    "with open(r\"C:\\Program Files\\7-Zip\\readme.txt\",'r') as file:\n",
    "    a=file.readlines()\n",
    "    for line in a:\n",
    "        array.append(line)\n",
    "print(len(array))"
   ]
  },
  {
   "cell_type": "markdown",
   "id": "e2dfca0b",
   "metadata": {},
   "source": [
    "Write a Python program to count the frequency of words in a file."
   ]
  },
  {
   "cell_type": "code",
   "execution_count": null,
   "id": "320e02cb",
   "metadata": {},
   "outputs": [],
   "source": [
    "word=\"Windows\"\n",
    "count=0\n",
    "with open(r\"C:\\Program Files\\7-Zip\\readme.txt\",'r') as file:\n",
    "    a=file.read().split()\n",
    "    longest_word=max(a,key=len)\n",
    "    for x in a:\n",
    "        if x==word:\n",
    "            count+=1\n",
    "\n",
    "print(count)"
   ]
  },
  {
   "cell_type": "markdown",
   "id": "566e29b6",
   "metadata": {},
   "source": [
    "Write a Python program to get the file size of a plain file."
   ]
  },
  {
   "cell_type": "code",
   "execution_count": null,
   "id": "01a33306",
   "metadata": {},
   "outputs": [],
   "source": [
    "import os\n",
    "try:\n",
    "    size=os.path.getsize(r\"C:\\Program Files\\7-Zip\\readme.txt\")\n",
    "    print(size)\n",
    "except FileNotFoundError:\n",
    "    print(\"Filenotfoundddddd\")\n",
    "except OSError:\n",
    "    print(\"File is not accesible\")\n"
   ]
  },
  {
   "cell_type": "code",
   "execution_count": null,
   "id": "a2169deb",
   "metadata": {},
   "outputs": [],
   "source": [
    "with open(r\"C:\\Program Files\\7-Zip\\readme.txt\",'r') as file:\n",
    "    a= open(\"Newfile.txt\",\"a\")\n",
    "    for line in file:\n",
    "        a.write(line)"
   ]
  },
  {
   "cell_type": "code",
   "execution_count": null,
   "id": "ee6deeaa",
   "metadata": {},
   "outputs": [],
   "source": [
    "with open (\"Newfile.txt\",'r') as file:\n",
    "    a=file.read()\n",
    "    print(a)"
   ]
  },
  {
   "cell_type": "markdown",
   "id": "37e1c8b8",
   "metadata": {},
   "source": [
    "Write a Python program to combine each line from the first file with the corresponding line in the second file."
   ]
  },
  {
   "cell_type": "code",
   "execution_count": null,
   "id": "dd5080b5",
   "metadata": {},
   "outputs": [],
   "source": [
    "with open(\"Text.txt\",\"r\") as f1, \\\n",
    "    open(\"123.txt\",\"r\") as f2, \\\n",
    "    open(\"Output.txt\",\"w\") as f3:\n",
    "    for line1,line2 in zip(f1,f2):\n",
    "        f3.write(f\"{line1.strip()} {line2.strip()}\\n\")\n",
    "with open(\"Output.txt\",\"r\") as Output:\n",
    "    a=Output.read()\n",
    "    print(a)\n"
   ]
  },
  {
   "cell_type": "markdown",
   "id": "b9eca69d",
   "metadata": {},
   "source": [
    "Write a Python program to read a random line from a file."
   ]
  },
  {
   "cell_type": "code",
   "execution_count": null,
   "id": "def55136",
   "metadata": {},
   "outputs": [],
   "source": [
    "import random\n",
    "\n",
    "with open(\"Text.txt\",\"r\") as f1:\n",
    "    a=f1.readlines()\n",
    "    if a:\n",
    "        random_line=random.choice(a)\n",
    "        print(random_line)"
   ]
  },
  {
   "cell_type": "markdown",
   "id": "bcdb8160",
   "metadata": {},
   "source": [
    "Write a Python program to assess if a file is closed or not."
   ]
  },
  {
   "cell_type": "code",
   "execution_count": null,
   "id": "fde2505b",
   "metadata": {},
   "outputs": [],
   "source": [
    "\n",
    "try:\n",
    "    a= open(\"Newfile.txt\",'r')\n",
    "    a.close()\n",
    "    print(a.read())\n",
    "    if a.closed:\n",
    "        print(\"Your file is closed dumbass\")\n",
    "    else:\n",
    "        print(\"You can do whatever you want\")\n",
    "except ValueError:\n",
    "    print(\"oops your file is closed\")"
   ]
  },
  {
   "cell_type": "markdown",
   "id": "3e803722",
   "metadata": {},
   "source": [
    "Write a Python program to remove newline characters from a file.\n"
   ]
  },
  {
   "cell_type": "code",
   "execution_count": null,
   "id": "7c153edc",
   "metadata": {},
   "outputs": [],
   "source": [
    "with open(\"Newfile.txt\",'r+') as a:\n",
    "    a.truncate(100)\n"
   ]
  },
  {
   "cell_type": "markdown",
   "id": "aa2e703d",
   "metadata": {},
   "source": [
    "Write a Python program that takes a text file as input and returns the number of words in a given text file.\n"
   ]
  },
  {
   "cell_type": "code",
   "execution_count": null,
   "id": "ebaf19a2",
   "metadata": {},
   "outputs": [],
   "source": [
    "def text_count(filename):\n",
    "    with open(filename,\"r\") as file:\n",
    "        a=file.read()\n",
    "        a1=list(a.replace(\",\",\" \").split())\n",
    "\n",
    "        print(len(a1))\n",
    "\n",
    "\n",
    "\n",
    "text_count(\"Newfile.txt\")\n"
   ]
  },
  {
   "cell_type": "markdown",
   "id": "3c43ac7b",
   "metadata": {},
   "source": [
    "Write a Python program to extract characters from various text files and put them into a list.\n"
   ]
  },
  {
   "cell_type": "code",
   "execution_count": null,
   "id": "2af371ae",
   "metadata": {},
   "outputs": [],
   "source": [
    "list=[]\n",
    "with open(\"Text.txt\",\"r\") as f1, \\\n",
    "     open(\"123.txt\",\"r\") as f2:\n",
    "\n",
    "    for line1,line2 in zip(f1,f2):\n",
    "        list.append(line2[5])\n",
    "        list.append(line1[4])\n",
    "    print(list) \n",
    "    "
   ]
  },
  {
   "cell_type": "markdown",
   "id": "961e6d54",
   "metadata": {},
   "source": [
    "Write a Python program to generate 26 text files named A.txt, B.txt, and so on up to Z.txt.\n"
   ]
  },
  {
   "cell_type": "code",
   "execution_count": null,
   "id": "571f8ab1",
   "metadata": {},
   "outputs": [],
   "source": [
    "Alphabet=[\"a\",\"d\",\"c\",\"b\",\"e\",\"f\",\"g\",\"h\",\"j\",\"k\",\"i\",\"l\",\"m\",\"n\",\"o\",\"p\",\"q\",\"r\",\"s\",\"t\",\"u\",\"v\",\"w\",\"x\",\"y\",\"z\"]\n",
    "try:\n",
    "    for i in range (0,len(Alphabet)):\n",
    "        with open(f'{Alphabet[i]+\".txt\"}',\"x\") as new_files:\n",
    "            print(f'{Alphabet[i]+\".txt\"} Has been successfully created')\n",
    "except FileExistsError:\n",
    "    print(\"Sorry these files already exist\")\n"
   ]
  },
  {
   "cell_type": "markdown",
   "id": "9ac87688",
   "metadata": {},
   "source": [
    "Write a Python program to create a file where all letters of the English alphabet are listed with a specified number of letters on each line."
   ]
  },
  {
   "cell_type": "code",
   "execution_count": null,
   "id": "cd5b5bd3",
   "metadata": {},
   "outputs": [],
   "source": [
    "Alphabet.sort()\n",
    "with open(\"Alphabet.txt\",\"a\") as file:\n",
    "    for line in range(0,len(Alphabet)):\n",
    "        file.writelines(f'{Alphabet[line]} is in {line+1}#s place \\n')\n",
    "        print(file)\n",
    "                        \n",
    "\n",
    "\n"
   ]
  }
 ],
 "metadata": {
  "kernelspec": {
   "display_name": "Python 3",
   "language": "python",
   "name": "python3"
  },
  "language_info": {
   "codemirror_mode": {
    "name": "ipython",
    "version": 3
   },
   "file_extension": ".py",
   "mimetype": "text/x-python",
   "name": "python",
   "nbconvert_exporter": "python",
   "pygments_lexer": "ipython3",
   "version": "3.13.7"
  }
 },
 "nbformat": 4,
 "nbformat_minor": 5
}
