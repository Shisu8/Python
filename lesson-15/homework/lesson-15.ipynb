{
 "cells": [
  {
   "cell_type": "markdown",
   "id": "5993c0a8",
   "metadata": {},
   "source": [
    "R\n",
    "\n",
    "\n"
   ]
  },
  {
   "cell_type": "markdown",
   "id": "7c2016dc",
   "metadata": {},
   "source": [
    "review Exercises\n",
    "Create a new database with a table named Roster that has three fields: Name, Species, and Age. The Name and Species columns should be text fields, and the Age column should be an integer field."
   ]
  },
  {
   "cell_type": "code",
   "execution_count": null,
   "id": "42ce15fe",
   "metadata": {},
   "outputs": [],
   "source": [
    "import pandas as pd\n",
    "Roster= {\n",
    "'Name':[\"Alan\",\"Decker\",\"Bony\"],\n",
    "'Species':[\"Human\",\"Homo Sapiens\",\"an idiot\"],\n",
    "'Age':[12,44,24]\n",
    "\n",
    "\n",
    "\n",
    "\n",
    "}\n",
    "print(pd.DataFrame(Roster))"
   ]
  },
  {
   "cell_type": "markdown",
   "id": "129d322b",
   "metadata": {},
   "source": [
    "\n",
    "Populate your new table with the following values:\n",
    "\n",
    "Name\tSpecies\tAge\n",
    "Benjamin Sisko\tHuman\t40\n",
    "Jadzia Dax\tTrill\t300\n",
    "Kira Nerys\tBajoran\t29\n",
    "Update the Name of Jadzia Dax to be Ezri Dax\n",
    "Display the Name and Age of everyone in the table classified as Bajoran."
   ]
  },
  {
   "cell_type": "code",
   "execution_count": null,
   "id": "e5b39dfc",
   "metadata": {},
   "outputs": [],
   "source": [
    "Roster[\"Name\"].append([\"Benjamin\",\"Jadzia Dax\",\"Kira Nerys\"])\n",
    "Roster[\"Species\"].append([\"Sisko\",\"Trill\",\"Bajoran\"])\n",
    "Roster[\"Age\"].append([40,300,29])\n",
    "\n",
    "\n"
   ]
  },
  {
   "cell_type": "code",
   "execution_count": null,
   "id": "440f0caf",
   "metadata": {},
   "outputs": [],
   "source": [
    "Roster2= {\n",
    "'Name':[\"Benjamin\",\"Jadzia Dax\",\"Kira Nerys\"],\n",
    "'Species':[\"Sisko\",\"Trill\",\"Bajaron\"],\n",
    "'Age':[40,300,29]\n",
    "\n",
    "\n",
    "\n",
    "\n",
    "}\n",
    "r=pd.DataFrame(Roster)\n",
    "r1=pd.DataFrame(Roster2)\n",
    "\n",
    "merge= [r, r1]\n",
    "ROSTER=pd.concat(merge, ignore_index=True)\n",
    "output=pd.DataFrame(ROSTER)\n",
    "print(pd.DataFrame(ROSTER))\n",
    "display(output.loc[(output[\"Species\"]==\"Bajaron\"),[\"Name\",\"Age\"]])"
   ]
  },
  {
   "cell_type": "code",
   "execution_count": null,
   "id": "5fd778b1",
   "metadata": {},
   "outputs": [],
   "source": [
    "output.loc[output[\"Name\"]==\"Jadzia Dax\",\"Name\"]=\"Ezri Dax\"\n",
    "print(output)"
   ]
  }
 ],
 "metadata": {
  "kernelspec": {
   "display_name": "Python 3",
   "language": "python",
   "name": "python3"
  },
  "language_info": {
   "codemirror_mode": {
    "name": "ipython",
    "version": 3
   },
   "file_extension": ".py",
   "mimetype": "text/x-python",
   "name": "python",
   "nbconvert_exporter": "python",
   "pygments_lexer": "ipython3",
   "version": "3.13.9"
  }
 },
 "nbformat": 4,
 "nbformat_minor": 5
}
