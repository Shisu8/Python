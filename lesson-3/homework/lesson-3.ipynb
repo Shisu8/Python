{
 "cells": [
  {
   "cell_type": "markdown",
   "id": "cb9e9cbc",
   "metadata": {},
   "source": [
    "1. Create and Access List Elements\n",
    "Create a list containing five different fruits and print the third fruit.\n",
    "\n",
    "2. Concatenate Two Lists\n",
    "Create two lists of numbers and concatenate them into a single list.\n",
    "\n",
    "3. Extract Elements from a List\n",
    "Given a list of numbers, extract the first, middle, and last elements and store them in a new list.\n",
    "\n",
    "4. Convert List to Tuple\n",
    "Create a list of your five favorite movies and convert it into a tuple.\n",
    "\n",
    "5. Check Element in a List\n",
    "Given a list of cities, check if \"Paris\" is in the list and print the result.\n",
    "\n",
    "6. Duplicate a List Without Using Loops\n",
    "Create a list of numbers and duplicate it without using loops.\n",
    "\n",
    "7. Swap First and Last Elements of a List\n",
    "Given a list of numbers, swap the first and last elements.\n",
    "\n",
    "8. Slice a Tuple\n",
    "Create a tuple of numbers from 1 to 10 and print a slice from index 3 to 7.\n",
    "\n",
    "9. Count Occurrences in a List\n",
    "Create a list of colors and count how many times \"blue\" appears in the list.\n",
    "\n",
    "10. Find the Index of an Element in a Tuple\n",
    "Given a tuple of animals, find the index of \"lion\".\n",
    "\n",
    "11. Merge Two Tuples\n",
    "Create two tuples of numbers and merge them into a single tuple.\n",
    "\n",
    "12. Find the Length of a List and Tuple\n",
    "Given a list and a tuple, find and print their lengths.\n",
    "\n",
    "13. Convert Tuple to List\n",
    "Create a tuple of five numbers and convert it into a list.\n",
    "\n",
    "14. Find Maximum and Minimum in a Tuple\n",
    "Given a tuple of numbers, find and print the maximum and minimum values.\n",
    "\n",
    "15. Reverse a Tuple\n",
    "Create a tuple of words and print it in reverse order."
   ]
  },
  {
   "cell_type": "markdown",
   "id": "26601f02",
   "metadata": {},
   "source": [
    "1. Create and Access List Elements\n",
    "Create a list containing five different fruits and print the third fruit.\n"
   ]
  },
  {
   "cell_type": "code",
   "execution_count": 1,
   "id": "0e40f3e9",
   "metadata": {},
   "outputs": [
    {
     "name": "stdout",
     "output_type": "stream",
     "text": [
      "Pineapple\n"
     ]
    }
   ],
   "source": [
    "a=(\"Apple\",\"Orange\",\"Pineapple\",\"Cherry\",\"Peach\",\"Watermelon\",\"Grape\")\n",
    "print(a[2])"
   ]
  },
  {
   "cell_type": "markdown",
   "id": "c3154d47",
   "metadata": {},
   "source": [
    "2. Concatenate Two Lists\n",
    "Create two lists of numbers and concatenate them into a single list."
   ]
  },
  {
   "cell_type": "code",
   "execution_count": null,
   "id": "2223fd7c",
   "metadata": {},
   "outputs": [
    {
     "name": "stdout",
     "output_type": "stream",
     "text": [
      "[1, 2, 3, 4, 5, 6, 7, 8, 9, 10, 11, 12, 13, 14, 15, 16, 17, 18, 19, 20] [1, 2, 3, 4, 5, 6, 7]\n"
     ]
    }
   ],
   "source": [
    "a=[1,2,3,4,5,6,7]\n",
    "b=[8,9,10,11,12,13,14,15,16,17,18,19,20]\n",
    "c=a+b \n",
    "a.extend(b)\n",
    "print (c,a)"
   ]
  },
  {
   "cell_type": "markdown",
   "id": "7ba33e58",
   "metadata": {},
   "source": [
    "3. Extract Elements from a List\n",
    "Given a list of numbers, extract the first, middle, and last elements and store them in a new list."
   ]
  },
  {
   "cell_type": "code",
   "execution_count": null,
   "id": "eb5bac9f",
   "metadata": {},
   "outputs": [],
   "source": [
    "list=[1,2,3,4,15,6,7,8,9,43,22,33,56,77,88,33,12,24]\n",
    "length=len(list)\n",
    "if length%2==0:\n",
    "    print(f'First elements is {list[0]}')\n",
    "    print(f'Last element is {list[length-1]}')\n",
    "    print(\"There is no real middle element in even lists\")\n",
    "    new_list=[list[0],list[length-1]]\n",
    "else:\n",
    "    print(f'First elements is {list[0]}')\n",
    "    print(f'Last element is {list[length-1]}')\n",
    "    print(f'Middle elemets is {list[(length-1)//2]}')\n",
    "    new_list=[list[0],list[length-1],list[(length-1)//2]]\n",
    "\n",
    "print(new_list)"
   ]
  },
  {
   "cell_type": "markdown",
   "id": "27e95124",
   "metadata": {},
   "source": [
    "\n",
    "5. Check Element in a List\n",
    "Given a list of cities, check if \"Paris\" is in the list and print the result.\n",
    "\n"
   ]
  },
  {
   "cell_type": "code",
   "execution_count": 42,
   "id": "912e5995",
   "metadata": {},
   "outputs": [
    {
     "name": "stdout",
     "output_type": "stream",
     "text": [
      "Yes there is Paris in the list\n"
     ]
    }
   ],
   "source": [
    "\n",
    "a=\"Paris\"\n",
    "b=[\"Asia\",\"America\",\"Paris\", \"Europe\",\"Sweden\",\"Canada\"]\n",
    "c=b.index(a)\n",
    "print(f'Yes there is {b[c]} in the list')"
   ]
  },
  {
   "cell_type": "markdown",
   "id": "9df8de5b",
   "metadata": {},
   "source": [
    "6. Duplicate a List Without Using Loops\n",
    "Create a list of numbers and duplicate it without using loops."
   ]
  },
  {
   "cell_type": "code",
   "execution_count": null,
   "id": "e308e2f1",
   "metadata": {},
   "outputs": [],
   "source": [
    "a=[1,2,3,4,5,6,7,8,9,10]\n",
    "a.extend(a)\n",
    "print(a)\n"
   ]
  },
  {
   "cell_type": "markdown",
   "id": "7ce8683d",
   "metadata": {},
   "source": [
    "7. Swap First and Last Elements of a List\n",
    "Given a list of numbers, swap the first and last elements."
   ]
  },
  {
   "cell_type": "code",
   "execution_count": 59,
   "id": "ee11ebe4",
   "metadata": {},
   "outputs": [
    {
     "name": "stdout",
     "output_type": "stream",
     "text": [
      "[10, 2, 3, 4, 5, 6, 7, 8, 9, 1]\n"
     ]
    }
   ],
   "source": [
    "a=[1,2,3,4,5,6,7,8,9,10]\n",
    "b=a.copy()\n",
    "\n",
    "b[0]=a[len(a)-1]\n",
    "\n",
    "b[len(a)-1]=a[0]\n",
    "print(b)"
   ]
  },
  {
   "cell_type": "markdown",
   "id": "894278c6",
   "metadata": {},
   "source": [
    "8. Slice a Tuple\n",
    "Create a tuple of numbers from 1 to 10 and print a slice from index 3 to 7.\n"
   ]
  },
  {
   "cell_type": "code",
   "execution_count": 63,
   "id": "e0f53e99",
   "metadata": {},
   "outputs": [
    {
     "data": {
      "text/plain": [
       "(3, 4, 5, 6, 7)"
      ]
     },
     "execution_count": 63,
     "metadata": {},
     "output_type": "execute_result"
    }
   ],
   "source": [
    "a=(1,2,3,4,5,6,7,8,9,10)\n",
    "a[2:7]\n"
   ]
  },
  {
   "cell_type": "markdown",
   "id": "6e1099be",
   "metadata": {},
   "source": [
    "9. Count Occurrences in a List\n",
    "Create a list of colors and count how many times \"blue\" appears in the list."
   ]
  },
  {
   "cell_type": "code",
   "execution_count": 64,
   "id": "b9192b22",
   "metadata": {},
   "outputs": [
    {
     "data": {
      "text/plain": [
       "2"
      ]
     },
     "execution_count": 64,
     "metadata": {},
     "output_type": "execute_result"
    }
   ],
   "source": [
    "colors=[\"blue\",\"orange\",\"red\",\"purple\",\"violet\",\"blue\"]\n",
    "colors.count(\"blue\")"
   ]
  },
  {
   "cell_type": "markdown",
   "id": "229fe7e1",
   "metadata": {},
   "source": [
    "10. Find the Index of an Element in a Tuple\n",
    "Given a tuple of animals, find the index of \"lion\"."
   ]
  },
  {
   "cell_type": "code",
   "execution_count": 66,
   "id": "a9eb4576",
   "metadata": {},
   "outputs": [
    {
     "data": {
      "text/plain": [
       "0"
      ]
     },
     "execution_count": 66,
     "metadata": {},
     "output_type": "execute_result"
    }
   ],
   "source": [
    "animal_kingdom=[\"lion\",\"bear\",\"bear\",\"tiger\",\"lion\",\"lion\"]\n",
    "index= animal_kingdom.index(\"lion\")\n",
    "index"
   ]
  },
  {
   "cell_type": "markdown",
   "id": "006eb089",
   "metadata": {},
   "source": [
    "11. Merge Two Tuples\n",
    "Create two tuples of numbers and merge them into a single tuple."
   ]
  },
  {
   "cell_type": "code",
   "execution_count": 4,
   "id": "ea3e5d62",
   "metadata": {},
   "outputs": [
    {
     "name": "stdout",
     "output_type": "stream",
     "text": [
      "(1, 2, 3, 4, 5, 6, 7, 8, 9, 10)\n"
     ]
    }
   ],
   "source": [
    "a=(1,2,3,4,5,6,7,8)\n",
    "b=(9,10)\n",
    "c=a+b\n",
    "print(c)"
   ]
  },
  {
   "cell_type": "markdown",
   "id": "2065d42b",
   "metadata": {},
   "source": [
    "12. Find the Length of a List and Tuple\n",
    "Given a list and a tuple, find and print their lengths."
   ]
  },
  {
   "cell_type": "code",
   "execution_count": null,
   "id": "58e804d8",
   "metadata": {},
   "outputs": [
    {
     "name": "stdout",
     "output_type": "stream",
     "text": [
      "List length is 8 and tuple length is 2\n"
     ]
    }
   ],
   "source": [
    "a=(1,2,3,4,5,6,7,8)\n",
    "b=[9,10]\n",
    "print(f'List length is {len(b)} and tuple length is {len(a)}')"
   ]
  },
  {
   "cell_type": "markdown",
   "id": "7f2d7ed5",
   "metadata": {},
   "source": [
    "13. Convert Tuple to List\n",
    "Create a tuple of five numbers and convert it into a list."
   ]
  },
  {
   "cell_type": "code",
   "execution_count": 20,
   "id": "ff3217af",
   "metadata": {},
   "outputs": [
    {
     "name": "stdout",
     "output_type": "stream",
     "text": [
      "[2, 5, 7, 4, 3]\n"
     ]
    }
   ],
   "source": [
    "tuple=(2,5,7,4,3)\n",
    "list=[item for item in tuple]\n",
    "print(list)\n"
   ]
  },
  {
   "cell_type": "markdown",
   "id": "c4e6d63d",
   "metadata": {},
   "source": [
    "14. Find Maximum and Minimum in a Tuple\n",
    "Given a tuple of numbers, find and print the maximum and minimum values.\n"
   ]
  },
  {
   "cell_type": "code",
   "execution_count": 26,
   "id": "6bf40b14",
   "metadata": {},
   "outputs": [
    {
     "name": "stdout",
     "output_type": "stream",
     "text": [
      "Minimum is 2, and maximum is 7\n"
     ]
    }
   ],
   "source": [
    "tuple\n",
    "a=max(tuple)\n",
    "b=min(tuple)\n",
    "print(f'Minimum is {b}, and maximum is {a}')"
   ]
  },
  {
   "cell_type": "markdown",
   "id": "3845c75a",
   "metadata": {},
   "source": [
    "15. Reverse a Tuple\n",
    "Create a tuple of words and print it in reverse order."
   ]
  },
  {
   "cell_type": "code",
   "execution_count": 33,
   "id": "2c485e3f",
   "metadata": {},
   "outputs": [
    {
     "data": {
      "text/plain": [
       "('Belissimo', 'Python', 'Excel', 'Word')"
      ]
     },
     "execution_count": 33,
     "metadata": {},
     "output_type": "execute_result"
    }
   ],
   "source": [
    "tuple_of_words=(\"Word\",\"Excel\",\"Python\",\"Belissimo\")\n",
    "a=reversed(tuple_of_words)\n",
    "tuple_of_words[::-1]\n"
   ]
  }
 ],
 "metadata": {
  "kernelspec": {
   "display_name": "Python 3",
   "language": "python",
   "name": "python3"
  },
  "language_info": {
   "codemirror_mode": {
    "name": "ipython",
    "version": 3
   },
   "file_extension": ".py",
   "mimetype": "text/x-python",
   "name": "python",
   "nbconvert_exporter": "python",
   "pygments_lexer": "ipython3",
   "version": "3.13.7"
  }
 },
 "nbformat": 4,
 "nbformat_minor": 5
}
