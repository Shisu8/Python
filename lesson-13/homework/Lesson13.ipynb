{
 "cells": [
  {
   "cell_type": "markdown",
   "id": "8488eee9",
   "metadata": {},
   "source": [
    "Homework:\n",
    "\n",
    "\n",
    "\n",
    "\n",
    "\n",
    "\n",
    "\n",
    "\n",
    "\n",
    "\n"
   ]
  },
  {
   "cell_type": "markdown",
   "id": "f4076d0e",
   "metadata": {},
   "source": [
    "Age Calculator: Ask the user to enter their birthdate. Calculate and print their age in years, months, and days."
   ]
  },
  {
   "cell_type": "code",
   "execution_count": 31,
   "id": "3125b667",
   "metadata": {},
   "outputs": [
    {
     "name": "stdout",
     "output_type": "stream",
     "text": [
      "you are 25 years, 9 months, and 11 days old young man\n"
     ]
    }
   ],
   "source": [
    "from datetime import date\n",
    "from datetime import datetime\n",
    "import datetime\n",
    "from dateutil.relativedelta import relativedelta\n",
    "year=int(input(\"Input the year of birth in the format YYYY\"))\n",
    "month=int(input(\"Input the month of birth in the format M\"))\n",
    "day=int(input(\"Input the day of birth in the format D\"))\n",
    "\n",
    "\n",
    "d=relativedelta(date.today(),datetime.datetime(year,month,day))\n",
    "print(f'you are {d.years} years, {d.months} months, and {d.days} days old young man')\n",
    "\n"
   ]
  },
  {
   "cell_type": "markdown",
   "id": "3e81cd19",
   "metadata": {},
   "source": [
    "Days Until Next Birthday: Similar to the first exercise, but this time, calculate and print the number of days remaining until the user's next birthday."
   ]
  },
  {
   "cell_type": "code",
   "execution_count": 93,
   "id": "f2e968d1",
   "metadata": {},
   "outputs": [
    {
     "name": "stdout",
     "output_type": "stream",
     "text": [
      "80 days left\n"
     ]
    }
   ],
   "source": [
    "birthdate=datetime.datetime(year,month,day)\n",
    "today=datetime.datetime.today()\n",
    "nextbirthday=datetime.datetime(today.year,birthdate.month,birthdate.day)\n",
    "\n",
    "\n",
    "\n",
    "if (nextbirthday-today).days<0:\n",
    "    nextbirthday=nextbirthday+relativedelta(years=+1)\n",
    "    days=nextbirthday-today\n",
    "    print(f'{days.days} days left' )\n",
    "else:\n",
    "    print(nextbirthday-today)\n",
    "\n"
   ]
  },
  {
   "cell_type": "markdown",
   "id": "d69e50e9",
   "metadata": {},
   "source": [
    "Meeting Scheduler: Ask the user to enter the current date and time, as well as the duration of a meeting in hours and minutes. Calculate and print the date and time when the meeting will end."
   ]
  },
  {
   "cell_type": "code",
   "execution_count": null,
   "id": "8b321e72",
   "metadata": {},
   "outputs": [
    {
     "name": "stdout",
     "output_type": "stream",
     "text": [
      "2025-10-16\n"
     ]
    },
    {
     "data": {
      "text/plain": [
       "2025"
      ]
     },
     "execution_count": 96,
     "metadata": {},
     "output_type": "execute_result"
    }
   ],
   "source": [
    "year=int(input(\"Input the year in the format YYYY\"))\n",
    "month=int(input(\"Input the month in the format M\"))\n",
    "day=int(input(\"Input the day in the format D\"))\n",
    "hour=int(input(\"Input the hour of birth in the format HH\"))\n",
    "minute=int(input(\"Input the minutes in the format MM\"))\n",
    "\n",
    "time=datetime.datetime(year,month,day,hour,minute,hour)\n",
    "hour1=int(input(\"How many hours will your meeting last HH\"))\n",
    "minute1=int(input(\"What about minutes MM\"))\n",
    "Meeting=time+relativedelta(hours=hour1,minutes=minute1)\n",
    "print(Meeting)\n",
    "\n",
    "\n",
    "\n"
   ]
  },
  {
   "cell_type": "code",
   "execution_count": 139,
   "id": "c31c8607",
   "metadata": {},
   "outputs": [
    {
     "name": "stdout",
     "output_type": "stream",
     "text": [
      "2025-10-16 20:44:14.733044 2025-10-16 23:59:14.733044 3 15\n"
     ]
    }
   ],
   "source": [
    "now=datetime.datetime.now()\n",
    "hour1=int(input(\"How many hours will your meeting last HH\"))\n",
    "minute1=int(input(\"What about minutes MM\"))\n",
    "Meeting=now+relativedelta(hours=hour1,minutes=minute1)\n",
    "\n",
    "print(now,Meeting,hour1,minute1)\n"
   ]
  },
  {
   "cell_type": "markdown",
   "id": "a15011c1",
   "metadata": {},
   "source": [
    "Timezone Converter: Create a program that allows the user to enter a date and time along with their current timezone, and then convert and print the date and time in another timezone of their choice."
   ]
  },
  {
   "cell_type": "code",
   "execution_count": 84,
   "id": "35424f47",
   "metadata": {},
   "outputs": [
    {
     "name": "stdout",
     "output_type": "stream",
     "text": [
      "2025-10-19 06:46:08.700406\n",
      "2025-10-19 06:46:08.700406+05:00\n",
      "Africa/Abidjan\n",
      "Africa/Accra\n",
      "Africa/Addis_Ababa\n",
      "Africa/Algiers\n",
      "Africa/Asmara\n",
      "2020-02-01 04:00:00+05:00\n"
     ]
    }
   ],
   "source": [
    "from datetime import datetime\n",
    "from zoneinfo import ZoneInfo\n",
    "import datetime\n",
    "a=datetime.datetime.now()\n",
    "a=a+datetime.timedelta(hours=5)\n",
    "\n",
    "print(a)\n",
    "time_zone=a.astimezone().tzname()\n",
    "time_zone\n",
    "dt_utc = a.astimezone()\n",
    "print(dt_utc)\n",
    "b=datetime.datetime(year=2020,month=2,day=1, tzinfo=ZoneInfo(\"Europe/Paris\"))\n",
    "import zoneinfo\n",
    "for tz_key in sorted(list(zoneinfo.available_timezones()))[:5]: # Print first 5 for brevity\n",
    "    print(tz_key)\n",
    "print(b.astimezone())"
   ]
  },
  {
   "cell_type": "code",
   "execution_count": null,
   "id": "a5d91462",
   "metadata": {},
   "outputs": [
    {
     "name": "stdout",
     "output_type": "stream",
     "text": [
      "2025-01-01 12:12:12+05:00\n",
      "2025-01-01 08:12:12+01:00\n"
     ]
    }
   ],
   "source": [
    "your_time=input(\"The format yyyy-mm-ddTHHMMSS\")\n",
    "local_time=datetime.datetime.fromisoformat(your_time).astimezone()\n",
    "print(local_time)\n",
    "\n",
    "new_time_zone=local_time.astimezone(ZoneInfo(input(\"Enter the time zone you want to change to(List you can get from python library)\")))\n",
    "print(new_time_zone)"
   ]
  },
  {
   "cell_type": "markdown",
   "id": "cf9f9d7a",
   "metadata": {},
   "source": [
    "Countdown Timer: Implement a countdown timer. Ask the user to input a future date and time, and then continuously print the time remaining until that point in regular intervals (e.g., every second)."
   ]
  },
  {
   "cell_type": "code",
   "execution_count": null,
   "id": "20de7b9e",
   "metadata": {},
   "outputs": [],
   "source": [
    "import datetime\n",
    "import time\n",
    "now=datetime.datetime.now()\n",
    "user_input=datetime.datetime.fromisoformat(input(\"Input the date and time in the form yyymmddThhmmss\"))\n",
    "Differ=user_input-now\n",
    "d=Differ.total_seconds()\n",
    "while d>0:\n",
    "    print(d)\n",
    "    d-=1\n",
    "    time.sleep(1)\n",
    "    \n",
    "    \n",
    "\n"
   ]
  },
  {
   "cell_type": "markdown",
   "id": "81b8aec6",
   "metadata": {},
   "source": [
    "Email Validator: Write a program that validates email addresses. Ask the user to input an email address, and check if it follows a valid email format."
   ]
  },
  {
   "cell_type": "code",
   "execution_count": 41,
   "id": "b7a8574a",
   "metadata": {},
   "outputs": [],
   "source": [
    "import re\n",
    "test_email=input(\"Input your email (only .coms)\")\n",
    "if not re.match(\"^@.*[a-zA-Z].[a-zA-Z]\", test_email):\n",
    "    raise ValueError(\"Wrong type of Email\")"
   ]
  },
  {
   "cell_type": "markdown",
   "id": "76fcd336",
   "metadata": {},
   "source": [
    "Phone Number Formatter: Create a program that takes a phone number as input and formats it according to a standard format. For example, convert \"1234567890\" to \"(123) 456-7890\"."
   ]
  },
  {
   "cell_type": "code",
   "execution_count": 254,
   "id": "a7265248",
   "metadata": {},
   "outputs": [
    {
     "name": "stdout",
     "output_type": "stream",
     "text": [
      "Your phone number is 998 (33) 100-10-10\n"
     ]
    }
   ],
   "source": [
    "code=__builtins__.input(\"Give me your phone number for Uzbekistan only\")\n",
    "print(f'Your phone number is 998 ({code[0:2]}) {code[2:5]}-{code[5:7]}-{code[7:9]}')"
   ]
  },
  {
   "cell_type": "markdown",
   "id": "9012a039",
   "metadata": {},
   "source": [
    "Password Strength Checker: Implement a password strength checker. Ask the user to input a password and check if it meets certain criteria (e.g., minimum length, contains at least one uppercase letter, one lowercase letter, and one digit)."
   ]
  },
  {
   "cell_type": "code",
   "execution_count": null,
   "id": "4428de1c",
   "metadata": {},
   "outputs": [],
   "source": []
  },
  {
   "cell_type": "code",
   "execution_count": 284,
   "id": "0266969d",
   "metadata": {},
   "outputs": [
    {
     "name": "stdout",
     "output_type": "stream",
     "text": [
      "acceptable\n"
     ]
    }
   ],
   "source": [
    "import re\n",
    "password=__builtins__.input(\"Enter your password we will check it for reliability\")\n",
    "if not re.match(\"(?=.*[a-z])(?=.*[A-Z])(?=.*[0-9])(?=.*[@#!$!]).{8,20}$\",password) or len(password)<8:\n",
    "    print(\"Password is weak as you are\")\n",
    "else:\n",
    "    print(\"acceptable\")"
   ]
  },
  {
   "cell_type": "markdown",
   "id": "cf303533",
   "metadata": {},
   "source": [
    "Word Finder: Develop a program that finds all occurrences of a specific word in a given text. Ask the user to input a word, and then search for and print all occurrences of that word in a sample text."
   ]
  },
  {
   "cell_type": "code",
   "execution_count": 290,
   "id": "036011a1",
   "metadata": {},
   "outputs": [
    {
     "name": "stdout",
     "output_type": "stream",
     "text": [
      "['m', 'm', 'm']\n"
     ]
    }
   ],
   "source": [
    "import re\n",
    "text=\"lorem impsum\"\n",
    "search_word=__builtins__.input(\"Input the word that you want to find\")\n",
    "print(re.findall(search_word,text))\n"
   ]
  },
  {
   "cell_type": "markdown",
   "id": "8b3722b6",
   "metadata": {},
   "source": [
    "Date Extractor: Write a program that extracts dates from a given text. Ask the user to input a text, and then identify and print all the dates present in the text."
   ]
  },
  {
   "cell_type": "code",
   "execution_count": null,
   "id": "0a2a9d26",
   "metadata": {},
   "outputs": [
    {
     "data": {
      "text/plain": [
       "(['25.01.2025'], ['2025/01/25', '2025.01.25', '2025-01-25'])"
      ]
     },
     "execution_count": 81,
     "metadata": {},
     "output_type": "execute_result"
    }
   ],
   "source": [
    "import re\n",
    "txe=\"2025/01/25, 2025.01.25, 25.01.2025, 25/0/2025, 2025-01-25\"\n",
    "txe=input(\"Write about anything but keep the dates readable\")\n",
    "\n",
    "a=re.findall(\"[0-9]{2}[-/.][0-9]{2}.[0-9]{4}\",txe)\n",
    "b=re.findall(\"[0-9]{4}[-/.][0-9]{2}.[0-9]{2}\",txe)\n",
    "a,b\n"
   ]
  }
 ],
 "metadata": {
  "kernelspec": {
   "display_name": "Python 3",
   "language": "python",
   "name": "python3"
  },
  "language_info": {
   "codemirror_mode": {
    "name": "ipython",
    "version": 3
   },
   "file_extension": ".py",
   "mimetype": "text/x-python",
   "name": "python",
   "nbconvert_exporter": "python",
   "pygments_lexer": "ipython3",
   "version": "3.13.8"
  }
 },
 "nbformat": 4,
 "nbformat_minor": 5
}
