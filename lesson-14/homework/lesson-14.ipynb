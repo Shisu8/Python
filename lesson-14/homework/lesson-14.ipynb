{
 "cells": [
  {
   "cell_type": "markdown",
   "id": "5b59c57e",
   "metadata": {},
   "source": [
    "Task: JSON Parsing\n"
   ]
  },
  {
   "cell_type": "markdown",
   "id": "b1affb6c",
   "metadata": {},
   "source": [
    "write a Python script that reads the students.jon JSON file and prints details of each student."
   ]
  },
  {
   "cell_type": "code",
   "execution_count": null,
   "id": "afe7cf11",
   "metadata": {},
   "outputs": [],
   "source": [
    "import json\n",
    "\n",
    "# Load JSON file\n",
    "with open('student.json', 'r') as file:\n",
    "    data = json.load(file)\n",
    "\n",
    "# Access people list\n",
    "for person in data[\"people\"]:\n",
    "    print(f\"Name: {person['name']}\")\n",
    "    print(f\"  Age: {person['age']}\")\n",
    "    print(f\"  Email: {person['email']}\")\n",
    "    print(f\"  City: {person['address']['city']}\")\n",
    "    print(f\"  Hobbies: {', '.join(person['hobbies'])}\")\n",
    "    print()\n",
    "print(data[\"people\"])"
   ]
  },
  {
   "cell_type": "code",
   "execution_count": 4,
   "id": "dff95495",
   "metadata": {},
   "outputs": [
    {
     "name": "stdout",
     "output_type": "stream",
     "text": [
      "Response: {'title': 'foo', 'body': 'bar', 'userId': 1, 'id': 101}\n"
     ]
    }
   ],
   "source": [
    "import requests\n",
    "url = \"https://jsonplaceholder.typicode.com/posts\"\n",
    "data = {\"title\": \"foo\", \"body\": \"bar\", \"userId\": 1}\n",
    "\n",
    "response = requests.post(url, json=data)\n",
    "print(\"Response:\", response.json())"
   ]
  },
  {
   "cell_type": "markdown",
   "id": "8f45c3fe",
   "metadata": {},
   "source": [
    "Task: Weather API\n",
    "Use this url : https://openweathermap.org/\n",
    "Use the requests library to fetch weather data for a specific city(ex. your hometown: Tashkent) and print relevant information (temperature, humidity, etc.).\n",
    "\n"
   ]
  },
  {
   "cell_type": "code",
   "execution_count": 5,
   "id": "40679b32",
   "metadata": {},
   "outputs": [
    {
     "name": "stdout",
     "output_type": "stream",
     "text": [
      "<!DOCTYPE html>\n",
      "<html>\n",
      "<body>\n",
      "\n",
      "<h1>This is a Test Page</h1>\n",
      "\n",
      "</body>\n",
      "</html>\n"
     ]
    }
   ],
   "source": [
    "import requests\n",
    "\n",
    "x = requests.get('https://w3schools.com/python/demopage.htm')\n",
    "\n",
    "print(x.text)"
   ]
  },
  {
   "cell_type": "code",
   "execution_count": null,
   "id": "e24ea0ff",
   "metadata": {},
   "outputs": [
    {
     "name": "stdout",
     "output_type": "stream",
     "text": [
      "b'<!DOCTYPE html>\\n<html lang=\"en\">\\n\\n<head>\\n  <title> Find - OpenWeatherMap</title>\\n  <meta name=\"apple-itunes-app\" content=\"app-id=1535923697\">\\n  <!-- Google tag (gtag.js) -->\\n<script async src=\"https://www.googletagmanager.com/gtag/js?id=G-31TSX35RJT\"></script>\\n<script>\\n  window.dataLayer = window.dataLayer || [];\\n  function gtag() { dataLayer.push(arguments); }\\n  gtag(\\'js\\', new Date());\\n\\n  gtag(\\'config\\', \\'G-31TSX35RJT\\');\\n</script>\\n    <meta http-equiv=\"Content-Type\" content=\"text/html; charset=utf-8\">\\n<meta name=\"viewport\" content=\"width=device-width, initial-scale=1.0\">\\n<meta name=\"keywords\" content=\"weather, world, Openstreetmap, forecast, Openweather, current\">\\n<meta name=\"description\" content=\"Use OpenWeather&#039;s &#039;Find&#039; feature to easily locate accurate weather forecasts, data, and insights for your\\nspecific location, accessible worldwide.\">\\n<meta name=\"author\" content=\"OpenWeatherMap.org\">\\n<meta name=\"domain\" content=\"OpenWeatherMap.org\">\\n<meta name=\"p:domain_verify\" content=\"34fe229eab8562dca90f4a5962ff80a9\">\\n<meta property=\"title\" content=\"Find\">  <link rel=\"stylesheet\" href=\"https://cdn.jsdelivr.net/npm/bootstrap@3.4.1/dist/css/bootstrap.min.css\" integrity=\"sha384-HSMxcRTRxnN+Bdg0JdbxYKrThecOKuH5zCYotlSAcp1+c8xmyTe9GYg1l9a69psu\" crossorigin=\"anonymous\">  <link rel=\"shortcut icon\" href=\"/themes/openweathermap/assets/vendor/owm/img/icons/favicon.ico\">\\n<link rel=\"icon\" href=\"/themes/openweathermap/assets/vendor/owm/img/icons/logo_16x16.png\" sizes=\"16x16\"\\n  type=\"image/png\">\\n<link rel=\"icon\" href=\"/themes/openweathermap/assets/vendor/owm/img/icons/logo_32x32.png\" sizes=\"32x32\"\\n  type=\"image/png\">\\n<link rel=\"icon\" href=\"/themes/openweathermap/assets/vendor/owm/img/icons/logo_60x60.png\" sizes=\"60x60\"\\n  type=\"image/png\">  <link rel=\"stylesheet\" href=\"https://maxcdn.bootstrapcdn.com/font-awesome/4.7.0/css/font-awesome.min.css\" integrity=\"sha384-wvfXpqpZZVQGK6TAh5PVlGOfQNHSoD2xbE+QkPxCAFlNEevoEH3Sl0sibVcOQVnN\" crossorigin=\"anonymous\">\\n\\n<link rel=\"stylesheet\" href=\"https://fonts.googleapis.com/css?family=Oswald:400,700,300\">\\n<link rel=\"stylesheet\" href=\"https://fonts.googleapis.com/css?family=Roboto:400,700,500,400italic,500italic\">  <link rel=\"stylesheet\" href=\"https://openweathermap.org/plugins/offline/gdpr/assets/cookieBanner/banner.css\">\\n  <link href=\"/combine/f715fd89ab078cb9d62b06cf2ebe66e0-1760708352\" rel=\"stylesheet\">\\n<!-- <link href=\"https://openweathermap.org/combine/9e05934b20b1168fe3f391e409e227a4-1760708352\" rel=\"stylesheet\"> -->\\n<!-- <link href=\"/themes/openweathermap/assets/css/new_design.css\" rel=\"stylesheet\"> -->  <script src=\"/combine/d8fb6d080cb70d894318fcae14526239-1760708352\"></script>\\n<!-- <script src=\"https://openweathermap.org/combine/9dc69b9a99b742c8cd4a003c67dfede2-1760708352\"></script> -->  </head>\\n\\n<body class=\"body-orange\" onClick=\"closePopUps()\">\\n  <link href=\"/themes/openweathermap/assets/css/smart_banner_android.css\" rel=\"stylesheet\">\\n\\n<div id=\"banner_android\" class=\"banner_stripe\">\\n    <div class=\"banner_container\">\\n        <a class=\"smartbanner__exit\" onClick=\"bannerClose()\"></a>\\n        <img src=\"/themes/openweathermap/assets/img/mobile_app/android-app-top-banner.png\" class=\"banner_icon\"\\n            alt=\"banner android\">\\n        <div>\\n            <p class=\"smartbanner-text\">OpenWeather</p>\\n            <p class=\"smartbanner-text\">OpenWeather Ltd.</p>\\n            <p class=\"smartbanner-text\">GET - on Google Play</p>\\n        </div>\\n    </div>\\n    <a class=\"google_button\" href=\"https://play.google.com/store/apps/details?id=uk.co.openweather\">VIEW</a>\\n</div>\\n\\n<script src=\"/themes/openweathermap/assets/js/smart_banner_android.js\"></script>  <nav id=\"nav-website\" onClick=\"toggleMenu(event)\">\\n  <ul id=\"first-level-nav\">\\n    <li class=\"logo\">\\n      <a href=\"/\">\\n        <img src=\"/themes/openweathermap/assets/img/logo_white_cropped.png\" alt=\"logo\">\\n      </a>\\n    </li>\\n    <li id=\"hamburger\">\\n      <img src=\"/themes/openweathermap/assets/img/owm_icons/icon_hamburger.svg\" alt=\"icon hamburger\">\\n    </li>\\n    <li id=\"desktop-menu\">\\n      <form role=\"search\" action=\"/find\" method=\"get\">\\n        <input type=\"text\" name=\"q\" placeholder=\"Weather in your city\">\\n        <input type=\"submit\" class=\"submit\">\\n      </form>\\n      <ul>\\n        <li>\\n          <a href=\"/guide\">Guide</a>\\n        </li>\\n        <li>\\n          <a href=\"/api\">API</a>\\n        </li>\\n        <!-- <li>\\n          <a href=\"https://dashboard.openweather.co.uk/\" target=\"_blank\">Dashboard</a>\\n        </li> -->\\n        <li class=\"with-dropdown\">\\n          <div id=\"dashboards-dropdown\">Dashboards</div>\\n          <ul class=\"dropdown-menu\" id=\"dashboards-dropdown-menu\" style=\"width: 230px !important; left: 20% !important;\">\\n            <li><a href=\"https://dashboard.openweather.co.uk/\">Weather Dashboard</a></li>\\n            <li><a href=\"https://openweather.co.uk/products/energy-dashboard\">Energy Dashboard</a></li>\\n            <li><a href=\"https://openweather.co.uk/products/extreme-weather-dashboard\">Extreme Weather Dashboard</a></li>\\n          </ul>\\n        </li>\\n\\n        <li>\\n          <a href=\"https://home.openweathermap.org/marketplace\" target=\"_blank\">Marketplace</a>\\n        </li>\\n        <li>\\n          <a href=\"/price\">Pricing</a>\\n        </li>\\n        <li>\\n          <a href=\"/weathermap\">Maps</a>\\n        </li>\\n        <li>\\n          <a href=\"/our-initiatives\">Our Initiatives</a>\\n        </li>\\n        <!-- <li>\\n          <a href=\"/examples\">Partners</a>\\n        </li> -->\\n        <li>\\n          <a href=\"https://openweather.co.uk/blog\" target=\"_blank\">Blog</a>\\n        </li>\\n        <li>\\n          <a href=\"https://openweather.co.uk\" class=\"marketplace\" target=\"_blank\">For Business</a>\\n        </li>\\n                <li class=\"user-li\"><a href=\"https://openweathermap.org/home/sign_in\">Sign in</a></li>\\n                <li><a href=\"/support-centre\">Support centre</a></li>\\n    </li>\\n  </ul>\\n  </li>\\n  </ul>\\n  <ul id=\"mobile-menu\">\\n    <li>\\n      <form role=\"search\" action=\"/find\" method=\"get\">\\n        <input type=\"text\" name=\"q\" placeholder=\"Weather in your city\">\\n        <input type=\"submit\" class=\"submit\">\\n      </form>\\n    </li>\\n    <li>\\n      <a href=\"/guide\">Guide</a>\\n    </li>\\n    <li>\\n      <a href=\"/api\">API</a>\\n    </li>\\n    <li>\\n      <a href=\"https://dashboard.openweather.co.uk/\" target=\"_blank\">Dashboard</a>\\n    </li>\\n    <li>\\n      <a href=\"https://home.openweathermap.org/marketplace\" target=\"_blank\">Marketplace</a>\\n    </li>\\n    <li>\\n      <a href=\"/price\">Pricing</a>\\n    </li>\\n    <li>\\n      <a href=\"/weathermap\">Maps</a>\\n    </li>\\n    <li>\\n      <a href=\"/our-initiatives\">Our Initiatives</a>\\n    </li>\\n    <li>\\n      <a href=\"/examples\">Partners</a>\\n    </li>\\n    <li>\\n      <a href=\"https://openweather.co.uk/blog\" target=\"_blank\">Blog</a>\\n    </li>\\n    <li>\\n      <a href=\"https://openweather.co.uk\" class=\"marketplace\" target=\"_blank\">For Business</a>\\n    </li>\\n    <li><a href=\"/support-centre\">Support centre</a></li>\\n        <li><a href=\"https://openweathermap.org/home/sign_in\">Sign in</a></li>\\n      </ul>\\n</nav>\\n<div class=\"nav-styles\"></div>  <main class=\"wrapper\">\\n        <div class=\"container\">\\n  <div class=\"row\">\\n    <div class=\"col-sm-12\">\\n      <h2 class=\"headline first-child text-color\">Weather in your city</h2>\\n    </div>\\n  </div>\\n</div>\\n\\n\\n<div class=\"color-jumbotron jumbotron-green\">\\n  <div class=\"container\">\\n    <div class=\"row\">\\n      <div class=\"col-sm-12\">\\n        <form class=\"form-inline text-center first-child\" onsubmit=\"FindCity(); return false\" id=\"searchform\" action=\"#\"\\n          method=\"get\">\\n          <div class=\"form-group\">\\n            <label class=\"sr-only\" for=\"search_str\">Search</label>\\n            <input class=\"form-control border-color col-sm-12\" id=\"search_str\" name=\"q\" value=\"tashkent\"\\n              onfocus=\"this.value = (this.value==\\'London, UK\\')? \\'\\' : this.value;\">\\n          </div>\\n          <button type=\"submit\" class=\"btn btn-color\"><i class=\"fa fa-question-circle\"></i> Search</button>\\n        </form>\\n      </div>\\n    </div>\\n  </div>\\n</div>\\n\\n<div id=\\'pbar\\' class=\"progress progress-striped active\">\\n  <div class=\"bar\" style=\"width: 100%;\"></div>\\n</div>\\n\\n\\n<div class=\"container\">\\n  <div class=\"row\">\\n    <div class=\"col-sm-12\">\\n      <div class=\"tab-pane active\" id=\"forecast-list\">\\n        <div id=\"forecast_list_ul\"></div>\\n      </div>\\n    </div>\\n  </div>\\n</div>\\n\\n<div class=\"container\">\\n  <div class=\"row\">\\n    <div class=\"col-sm-12\">\\n      <h3>Search engine is very flexible. How it works:</h3>\\n      <ul>\\n        <li> To make it more precise put the city\\'s name, comma, 2-letter country code (ISO3166). You will get all\\n          proper cities in chosen country.\\n          <br>The order is important - the first is city name then comma then country. Example - London, GB or New York,\\n          US.\\n        </li>\\n      </ul>\\n    </div>\\n  </div>\\n</div>\\n\\n\\n<script src=\"/themes/openweathermap/assets/js/find.js\"></script>  </main>\\n  <div id=\"footer-website\" onClick=\"toggleFooterSection(event)\">\\n   <div class=\"inner-footer-container\">\\n      <div class=\"horizontal-section\">\\n         <div class=\"footer-section\">\\n            <p class=\"section-heading\">Product Collections</p>\\n            <div class=\"section-content\">\\n               <ul>\\n                  <li><a href=\"/api#current\">Current and Forecast APIs</a></li>\\n                  <li><a href=\"/api#history\">Historical Weather Data</a></li>\\n                  <li><a href=\"/api#maps\">Weather Maps</a></li>\\n                  <li><a href=\"https://dashboard.openweather.co.uk/\" target=\"_blank\">Weather Dashboard</a></li>\\n                  <li><a href=\"/widgets-constructor\">Widgets</a></li>\\n               </ul>\\n            </div>\\n         </div>\\n         <div class=\"footer-section\">\\n            <p class=\"section-heading\">Subscription</p>\\n            <div class=\"section-content\">\\n               <ul>\\n                  <li><a href=\"/appid\">How to start</a></li>\\n                  <li><a href=\"/price\">Pricing</a></li>\\n                  <li><a href=\"https://home.openweathermap.org/users/sign_up\">Subscribe for free</a></li>\\n                  <li><a href=\"/faq\">FAQ</a></li>\\n               </ul>\\n            </div>\\n         </div>\\n         <div class=\"footer-section\">\\n            <p class=\"section-heading\">Company</p>\\n            <div class=\"section-content\">\\n               <p>OpenWeather is a team of IT experts and data scientists that has been practising deep weather data\\n                  science. For each point on the globe, OpenWeather provides historical, current and forecasted weather\\n                  data via light-speed APIs. Headquarters in London, UK.</p>\\n            </div>\\n         </div>\\n      </div>\\n      <div class=\"horizontal-section\">\\n         <div class=\"footer-section\">\\n            <p class=\"section-heading\">Technologies</p>\\n            <div class=\"section-content\">\\n               <ul>\\n                  <li><a href=\"/technology\">Our technology</a></li>\\n                  <li><a href=\"/accuracy-and-quality\">Accuracy and quality of weather data</a></li>\\n                  <li><a href=\"/stations\">Connect your weather station</a></li>\\n               </ul>\\n            </div>\\n         </div>\\n         <div class=\"footer-section\">\\n            <p class=\"section-heading\">Terms & Conditions</p>\\n            <div class=\"section-content\">\\n               <ul>\\n                  <li><a href=\"/themes/openweathermap/assets/docs/OpenWeather_T&C_of_sale.pdf\"\\n                        target=\"_blank\">Terms and conditions of sale</a></li>\\n                  <li><a href=\"https://openweather.co.uk/privacy-policy\" target=\"_blank\">Privacy Policy</a></li>\\n                  <li><a href=\"/themes/openweathermap/assets/docs/Openweather_website_terms_and_conditions_of_use.pdf\"\\n                        target=\"_blank\">Website terms and conditions</a></li>\\n               </ul>\\n            </div>\\n         </div>\\n         <div class=\"footer-section not-foldable\">\\n            <!-- <p class=\"section-heading\">Contact us</p> -->\\n            <div class=\"section-content\">\\n               <ul>\\n                  <li><a href=\"/about-us\" target=\"_blank\">About us</a></li>\\n                  <li><a href=\"https://openweather.co.uk/about/our-offices\" target=\"_blank\">Our offices</a></li>\\n                  <li><a href=\"https://openweather.co.uk/blog\" target=\"_blank\">Blog</a></li>\\n                  <li><a href=\"https://openweather.co.uk/\" target=\"_blank\">OpenWeather for Business</a></li>\\n                  <li><a href=\"/chat\">Ulla, OpenWeather AI assistant</a></li>\\n                  <li><a href=\"https://home.openweathermap.org/questions\" target=\"_blank\">Ask a question</a></li>\\n                  <!--  <li><a href=\"mailto:info@openweathermap.org\">info@openweathermap.org</a>  -->\\n               </ul>\\n            </div>\\n         </div>\\n      </div>\\n\\n      <div class=\"horizontal-section\">\\n         <div class=\"footer-section\">\\n            <div class=\"my-5\">\\n               <p>Download OpenWeather app</p>\\n               <div>\\n                  <a href=\"https://apps.apple.com/gb/app/openweather/id1535923697\" target=\"_blank\">\\n                     <img src=\"/themes/openweathermap/assets/img/mobile_app/app-store-badge.svg\"\\n                        alt=\\'Get it on AppStore\\'>\\n                  </a>\\n                  <a href=\"https://play.google.com/store/apps/details?id=uk.co.openweather\" target=\"_blank\">\\n                     <img src=\"/themes/openweathermap/assets/img/mobile_app/google-play-badge.png\"\\n                        class=\"google-play-img\" alt=\\'Get it on Google Play\\'>\\n                  </a>\\n               </div>\\n            </div>\\n         </div>\\n         <div class=\"footer-section\">\\n            <div class=\"my-5 logo-blocks\">\\n               <img src=\"/themes/openweathermap/assets/img/RMets_Logo_corp.png\" width=\"200\" height=\"70\"\\n                  alt=\"RMets logo\">\\n               <img src=\"/themes/openweathermap/assets/img/CNB_Business_Logo_2024.png\" alt=\"CNB Business logo\"\\n                  width=\"170\" height=\"170\">\\n            </div>\\n\\n            <div class=\"my-5 logo-blocks\">\\n               <img src=\"/themes/openweathermap/assets/img/iso-9001.png\" width=\"170\" height=\"170\" alt=\"ISO 9001 certification\">\\n               <img src=\"/themes/openweathermap/assets/img/iso-27001.png\" width=\"170\" height=\"170\" alt=\"ISO 27001 certification\">\\n            </div>\\n         </div>\\n      </div>\\n\\n      <div class=\"horizontal-section my-5\">\\n         <div>\\n            <span>Supplier of Achilles UVDB community</span><br>\\n            <span id=\"years-copyright\"></span><br><br>\\n         </div>\\n         <div class=\"social\">\\n            <a href=\"https://www.facebook.com/groups/270748973021342\" target=\"_blank\"><img\\n                  src=\"/themes/openweathermap/assets/img/owm_icons/icon_facebook.png\" alt=\"facebook icon\"></a>\\n            <a href=\"https://twitter.com/OpenWeatherMap\" target=\"_blank\"><img\\n                  src=\"/themes/openweathermap/assets/img/owm_icons/icon_x_black.png\" alt=\"x icon\"></a>\\n            <a href=\"https://www.linkedin.com/company/9816754\" target=\"_blank\"><img\\n                  src=\"/themes/openweathermap/assets/img/owm_icons/icon_linkedin.png\" alt=\"linkedin icon \"></a>\\n            <a href=\"https://medium.com/@openweathermap\" target=\"_blank\"><img\\n                  src=\"/themes/openweathermap/assets/img/owm_icons/new_medium.svg\" alt=\"meduim icon\"></a>\\n            <a href=\"https://t.me/openweathermap\" target=\"_blank\"><img\\n                  src=\"/themes/openweathermap/assets/img/owm_icons/icon_telegram.png\" alt=\"telegram icon\"></a>\\n            <a href=\"https://github.com/openweathermap\" target=\"_blank\"><img\\n                  src=\"/themes/openweathermap/assets/img/owm_icons/icon_github.png\" alt=\"github icon\"></a>\\n         </div>\\n      </div>\\n      <div class=\"horizontal-section\"></div>\\n   </div>\\n</div>  <script src=\"https://cdn.ravenjs.com/3.6.1/raven.min.js\"></script>\\n<script>Raven.config(\\'http://66df88eb63e94f27964b84031e49b358@sentry.owm.io/16\\').install()</script>  <script src=\\'/themes/openweathermap/assets/js/bundle_owm_postload.c31872127471c475ade1.js\\'></script>\\n<script src=\"/themes/openweathermap/assets/js/advertising.js\"></script>      <div class=\"gdpr-banner\">\\n        <div class=\"gdpr-banner__wrapper\">\\n            <div class=\"gdpr-banner__column gdpr-banner__column--1\">\\n    <div class=\"gdpr-banner__row\">\\n        <div class=\"gdpr-banner__message\">\\n    We use cookies to personalize content and to analyze our traffic. Please decide if you are willing to accept cookies from our website.\\n</div>    </div>\\n</div>\\n<div class=\"gdpr-banner__column gdpr-banner__column--2\">\\n        <div class=\"gdpr-banner__settings\">\\n        <a role=\"link\" rel=\"privacy\" href=\"https://openweathermap.org/cookies\"\\n           data-request=\"onDecline\"\\n           data-request-success=\"document.location.href = \\'https://openweathermap.org/cookies\\'\"\\n        >\\n            Advanced Settings\\n        </a>\\n    </div>\\n    <div class=\"gdpr-banner__opt-out\">\\n    <button role=\"button\" \\n         tabindex=\"0\" \\n         aria-pressed=\"false\"\\n         class=\"gdpr-banner__button gdpr-banner__button--opt-out\"\\n         data-request=\"onDecline\"\\n         data-request-success=\"document.querySelector(\\'.gdpr-banner\\').remove()\"\\n    >\\n        Decline\\n    </button>\\n</div>    <div class=\"gdpr-banner__opt-in\">\\n    <button role=\"button\" \\n            tabindex=\"0\" \\n            aria-pressed=\"false\"\\n            class=\"gdpr-banner__button gdpr-banner__button--opt-in\"\\n            data-request=\"onAccept\"\\n            data-request-success=\"document.querySelector(\\'.gdpr-banner\\').remove()\"\\n            data-request-update=\"\\'gtag\\' : \\'#gdpr-reload\\'\"\\n    >\\n        Accept\\n    </button>\\n</div>\\n    <div class=\"gdpr-banner__dismiss\">\\n    <button role=\"button\" \\n      tabindex=\"0\" \\n      aria-pressed=\"false\"\\n      class=\"gdpr-banner__button--dismiss\"\\n      onclick=\"document.querySelector(\\'.gdpr-banner\\').remove()\">&times;</button>\\n</div></div>        </div>\\n    </div>\\n  <div id=\"ulla-banner\">\\n    <div class=\"close-btn\" id=\"ulla-banner-close\" title=\"Close banner\"></div>\\n    <a href=\"https://ulla.bot/notetaker?utm_source=owm_site&utm_medium=banner&utm_campaign=sept\" target=\"_blank\">\\n        <img src=\"/themes/openweathermap/assets/img/ulla_banner.jpg\" alt=\"Ulla the Bot\" width=\"335\"\\n            style=\"height: auto;\">\\n    </a>\\n</div>\\n\\n<script>\\n    document.addEventListener(\\'DOMContentLoaded\\', function () {\\n        const ullaBanner = document.getElementById(\\'ulla-banner\\');\\n        const closeButton = document.getElementById(\\'ulla-banner-close\\');\\n        const STORAGE_KEY = \\'ulla_banner_closed\\';\\n        const HOURS_24 = 24 * 60 * 60 * 1000; // 24 hours in milliseconds\\n\\n        // Check if banner was closed within the last 24 hours\\n        function isBannerClosed() {\\n            const closedTime = localStorage.getItem(STORAGE_KEY);\\n            if (!closedTime) return false;\\n\\n            const now = Date.now();\\n            const closedAt = parseInt(closedTime);\\n            return (now - closedAt) < HOURS_24;\\n        }\\n\\n        // Hide banner if it was closed recently\\n        if (isBannerClosed()) {\\n            ullaBanner.style.display = \\'none\\';\\n            return;\\n        }\\n\\n        // Banner click event (existing functionality)\\n        ullaBanner?.addEventListener(\\'click\\', (event) => {\\n            // Don\\'t trigger if clicking the close button\\n            if (event.target.id === \\'ulla-banner-close\\' || event.target.closest(\\'#ulla-banner-close\\')) {\\n                return;\\n            }\\n\\n            gtag?.(\\'event\\', \\'click_ulla_banner_main_page\\', {\\n                \\'event_category\\': \\'Ulla\\',\\n                \\'event_label\\': \\'clickullabannermainpage\\'\\n            });\\n        });\\n\\n        // Close button click event\\n        closeButton?.addEventListener(\\'click\\', (event) => {\\n            event.preventDefault();\\n            event.stopPropagation();\\n\\n            // Hide the banner\\n            ullaBanner.style.display = \\'none\\';\\n\\n            // Store close time in localStorage\\n            localStorage.setItem(STORAGE_KEY, Date.now().toString());\\n\\n            // Send analytics event\\n            gtag?.(\\'event\\', \\'close_ulla_banner_main_page\\', {\\n                \\'event_category\\': \\'Ulla\\',\\n                \\'event_label\\': \\'closeullabannermainpage\\'\\n            });\\n        });\\n    });\\n\\n    // const ullaBanner = document.getElementById(\\'ulla-banner\\');\\n    // const gdprBanner = document.querySelector(\\'.gdpr-banner\\');\\n\\n    // if (gdprBanner) {\\n    //     ullaBanner.style.bottom = \\'128px\\';\\n\\n    //     const observer = new MutationObserver(() => {\\n    //         if (!document.body.contains(gdprBanner)) {\\n    //             ullaBanner.style.bottom = \\'128px\\';\\n    //         } else {\\n    //             ullaBanner.style.bottom = (gdprBanner.clientHeight + 20 + 66) + \\'px\\';\\n    //         }\\n    //     });\\n\\n    //     observer.observe(document.body, { childList: true, subtree: true });\\n    // }\\n</script>  <link href=\"/themes/openweathermap/assets/css/chat-banner.css\" rel=\"stylesheet\">\\n<link href=\\'/themes/openweathermap/assets/vendor/owm/css/assistant-index.DVVhxENO.css\\'\\n  rel=\"stylesheet\" />\\n\\n<style>\\n  #owm-chat-bot p {\\n    font-weight: normal;\\n  }\\n\\n  #owm-chat-bot>div {\\n    box-shadow: 0 0 10px 0 rgba(0, 0, 0, 0.1);\\n  }\\n\\n  .pop-up-content h2 {\\n    margin-top: 19.2px;\\n  }\\n\\n  .owm-chat-bot-description ul {\\n    margin: 0;\\n    padding: 16px;\\n    background-color: #4f4f4f;\\n    color: white;\\n    border-radius: 4.8px;\\n  }\\n\\n  .owm-chat-bot-description ul.dashed {\\n    list-style-type: none;\\n  }\\n\\n  /* .owm-chat-bot-description ul.dashed>li {\\n    text-indent: -1rem;\\n  } */\\n\\n  .owm-chat-bot-description ul.dashed>li:before {\\n    content: \"- \";\\n    text-indent: -16px;\\n  }\\n</style>\\n\\n<div id=\"owm-chat-bot\" data-key=\"5796abbde9106b7da4febfae8c44c232\" data-popup\\n  style=\"display: none; position: fixed; z-index: 50000; bottom: 16px; right: 16px; height: 640px; max-height: calc(100% - 32px); width: 480px; max-width: calc(100% - 32px);\">\\n</div>\\n\\n<script>\\n  `ASSISTANT_URL=https://api.openweathermap.org`.split(\"\\\\n\").map(env => env.split(\\'=\\')).map(env => window[env[0]] = env[1]);\\n</script>\\n<script\\n  src=\\'/themes/openweathermap/assets/vendor/owm/js/assistant-index.C8m1FIny.js\\'></script>\\n\\n<div id=\"chat-banner\" class=\"banner-pop-up\">\\n  <div class=\"banner-pop-up-content\">\\n    <img src=\"/themes/openweathermap/assets/img/Ulla_bot.png\" alt=\"Ulla the Bot\" width=\"16\" height=\"16\">\\n    <h3>Ulla Weather Assistant</h3>\\n  </div>\\n</div>\\n\\n\\n<script>\\n  const chatBanner = document.getElementById(\\'chat-banner\\');\\n  const chatBot = document.getElementById(\\'owm-chat-bot\\');\\n\\n  chatBanner.addEventListener(\\'click\\', () => {\\n    chatBanner.style.display = \\'none\\';\\n    chatBot.style.display = chatBot.style.display === \\'none\\' ? \\'block\\' : \\'none\\';\\n    gtag(\\'event\\', \\'maxullaweather\\', {\\n      \\'event_category\\': \\'Chat\\',\\n      \\'event_label\\': \\'maxullaweather\\'\\n    });\\n  });\\n\\n  window.addEventListener(\\'minimize\\', () => {\\n    chatBot.style.display = \\'none\\';\\n    chatBanner.style.display = \\'block\\';\\n    gtag(\\'event\\', \\'minullaweather\\', {\\n      \\'event_category\\': \\'Chat\\',\\n      \\'event_label\\': \\'minullaweather\\'\\n    });\\n  });\\n\\n  const gdprBanner = document.querySelector(\\'.gdpr-banner\\');\\n\\n  if (gdprBanner) {\\n    chatBanner.style.bottom = \\'80px\\';\\n\\n    const observer = new MutationObserver(() => {\\n      if (!document.body.contains(gdprBanner)) {\\n        chatBanner.style.bottom = \\'50px\\';\\n      } else {\\n        chatBanner.style.bottom = (gdprBanner.clientHeight + 8) + \\'px\\';\\n      }\\n    });\\n\\n    observer.observe(document.body, { childList: true, subtree: true });\\n  }\\n</script></body>\\n\\n</html>'\n"
     ]
    }
   ],
   "source": [
    "import requests\n",
    "\n",
    "x = requests.get('https://openweathermap.org/find?q=tashkent')\n",
    "print(x)"
   ]
  },
  {
   "cell_type": "code",
   "execution_count": null,
   "id": "af32dbeb",
   "metadata": {},
   "outputs": [],
   "source": [
    "import requests\n",
    "import bs4\n",
    "from bs4 import BeautifulSoup\n",
    "url='https://openweathermap.org/find?q=tashkent'\n",
    "x = requests.get(url)\n",
    "soup = BeautifulSoup(x.text, 'html.parser')\n",
    "tash= soup.find_all('span', attrs={\"class\":'badge.badge.info'})\n",
    "pp=tash.find_all('p')\n",
    "for data in tash:\n",
    "    print(data)\n"
   ]
  },
  {
   "cell_type": "code",
   "execution_count": null,
   "id": "311cb9d2",
   "metadata": {},
   "outputs": [
    {
     "name": "stdout",
     "output_type": "stream",
     "text": [
      "You are succesfull\n",
      "Temperature is 302.12\n",
      "humidity is 13\n",
      "Pressure is 1015\n"
     ]
    }
   ],
   "source": [
    "import requests\n",
    "city=\"tashkent,uz\"\n",
    "api=f\"http://api.openweathermap.org/data/2.5/weather?q={city}&APPID={API_KEY}\"\n",
    "#\"For security reasons i cannot post my api key here\"\n",
    "try:\n",
    "    inquiry=requests.get(api)\n",
    "    response=inquiry.json()[\"main\"]\n",
    "    if inquiry.status_code==401:\n",
    "        print(\"Sorry you are out of luck\")\n",
    "    else:\n",
    "        print(\"You are succesfull\")\n",
    "        print(f\"Temperature is {response['temp']}\")\n",
    "        print(f\"humidity is {response['humidity']}\")\n",
    "        print(f\"Pressure is {response['pressure']}\")\n",
    "        \n",
    "except ValueError:\n",
    "    print(\"asddddddd\")"
   ]
  },
  {
   "cell_type": "markdown",
   "id": "b1f0e6a8",
   "metadata": {},
   "source": [
    "Task: JSON Modification\n",
    "Write a program that allows users to add new books, update existing book information, and delete books from the books.json JSON file.\n"
   ]
  },
  {
   "cell_type": "code",
   "execution_count": 22,
   "id": "8362a49a",
   "metadata": {},
   "outputs": [
    {
     "name": "stdout",
     "output_type": "stream",
     "text": [
      "\n",
      "Library Management System\n",
      "1. Add Book\n",
      "2. Update Book\n",
      "3. Delete Book\n",
      "4. Exit\n",
      "Invalid choice. Please try again.\n",
      "\n",
      "Library Management System\n",
      "1. Add Book\n",
      "2. Update Book\n",
      "3. Delete Book\n",
      "4. Exit\n",
      "Book added successfully!\n",
      "\n",
      "Library Management System\n",
      "1. Add Book\n",
      "2. Update Book\n",
      "3. Delete Book\n",
      "4. Exit\n",
      "Goodbye!\n"
     ]
    }
   ],
   "source": [
    "import json\n",
    "import os\n",
    "\n",
    "# File path for the JSON file\n",
    "FILE_PATH = \"books.json\"\n",
    "\n",
    "# Function to load books from the JSON file\n",
    "def load_books():\n",
    "    if not os.path.exists(FILE_PATH):\n",
    "        return []\n",
    "    with open(FILE_PATH, \"r\") as file:\n",
    "        return json.load(file)\n",
    "\n",
    "# Function to save books to the JSON file\n",
    "def save_books(books):\n",
    "    with open(FILE_PATH, \"w\") as file:\n",
    "        json.dump(books, file, indent=4)\n",
    "\n",
    "# Function to add a new book\n",
    "def add_book():\n",
    "    books = load_books()\n",
    "    book_id = input(\"Enter Book ID: \")\n",
    "    title = input(\"Enter Book Title: \")\n",
    "    author = input(\"Enter Author Name: \")\n",
    "    year = input(\"Enter Publication Year: \")\n",
    "    books.append({\"id\": book_id, \"title\": title, \"author\": author, \"year\": year})\n",
    "    save_books(books)\n",
    "    print(\"Book added successfully!\")\n",
    "\n",
    "# Function to update an existing book\n",
    "def update_book():\n",
    "    books = load_books()\n",
    "    book_id = input(\"Enter the Book ID to update: \")\n",
    "    for book in books:\n",
    "        if book[\"id\"] == book_id:\n",
    "            print(f\"Current details: {book}\")\n",
    "            book[\"title\"] = input(\"Enter new title (leave blank to keep current): \") or book[\"title\"]\n",
    "            book[\"author\"] = input(\"Enter new author (leave blank to keep current): \") or book[\"author\"]\n",
    "            book[\"year\"] = input(\"Enter new year (leave blank to keep current): \") or book[\"year\"]\n",
    "            save_books(books)\n",
    "            print(\"Book updated successfully!\")\n",
    "            return\n",
    "    print(\"Book not found!\")\n",
    "\n",
    "# Function to delete a book\n",
    "def delete_book():\n",
    "    books = load_books()\n",
    "    book_id = input(\"Enter the Book ID to delete: \")\n",
    "    updated_books = [book for book in books if book[\"id\"] != book_id]\n",
    "    if len(books) == len(updated_books):\n",
    "        print(\"Book not found!\")\n",
    "    else:\n",
    "        save_books(updated_books)\n",
    "        print(\"Book deleted successfully!\")\n",
    "\n",
    "# Main menu\n",
    "def main():\n",
    "    while True:\n",
    "        print(\"\\nLibrary Management System\")\n",
    "        print(\"1. Add Book\")\n",
    "        print(\"2. Update Book\")\n",
    "        print(\"3. Delete Book\")\n",
    "        print(\"4. Exit\")\n",
    "        choice = input(\"Enter your choice: \")\n",
    "        if choice == \"1\":\n",
    "            add_book()\n",
    "        elif choice == \"2\":\n",
    "            update_book()\n",
    "        elif choice == \"3\":\n",
    "            delete_book()\n",
    "        elif choice == \"4\":\n",
    "            print(\"Goodbye!\")\n",
    "            break\n",
    "        else:\n",
    "            print(\"Invalid choice. Please try again.\")\n",
    "\n",
    "if __name__ == \"__main__\":\n",
    "    main()\n"
   ]
  },
  {
   "cell_type": "markdown",
   "id": "f971adb0",
   "metadata": {},
   "source": [
    "\n",
    "\n",
    "Task: Movie Recommendation System\n",
    "Use this url http://www.omdbapi.com/ to fetch information about movies.\n",
    "Create a program that asks users for a movie genre and recommends a random movie from that genre."
   ]
  },
  {
   "cell_type": "code",
   "execution_count": 26,
   "id": "d031d5e9",
   "metadata": {},
   "outputs": [
    {
     "name": "stdout",
     "output_type": "stream",
     "text": [
      "Sorry, no movies found for genre 'Action'.\n"
     ]
    }
   ],
   "source": [
    "import requests\n",
    "import random\n",
    "\n",
    "# Replace 'YOUR_API_KEY' with your actual OMDb API key\n",
    "API_KEY = 'YOUR_API_KEY'\n",
    "OMDB_URL = 'http://www.omdbapi.com/'\n",
    "\n",
    "def fetch_movies_by_genre(genre, max_pages=5):\n",
    "    \"\"\"\n",
    "    Fetch movies from OMDb API for a given genre.\n",
    "    OMDb API supports searching by title but not directly by genre,\n",
    "    so we will simulate for some common popular titles.\n",
    "    \"\"\"\n",
    "    popular_movies = [\n",
    "        \"Inception\", \"The Dark Knight\", \"Interstellar\", \"Parasite\",\n",
    "        \"The Matrix\", \"Pulp Fiction\", \"Avengers\", \"Titanic\",\n",
    "        \"Gladiator\", \"The Godfather\", \"Forrest Gump\", \"Joker\"\n",
    "    ]\n",
    "    \n",
    "    movies_in_genre = []\n",
    "\n",
    "    for title in popular_movies:\n",
    "        params = {\n",
    "            'apikey': API_KEY,\n",
    "            't': title\n",
    "        }\n",
    "        response = requests.get(OMDB_URL, params=params)\n",
    "        if response.status_code == 200:\n",
    "            movie = response.json()\n",
    "            if movie.get('Genre') and genre.lower() in movie['Genre'].lower():\n",
    "                movies_in_genre.append({\n",
    "                    'Title': movie.get('Title'),\n",
    "                    'Year': movie.get('Year'),\n",
    "                    'Genre': movie.get('Genre'),\n",
    "                    'Plot': movie.get('Plot'),\n",
    "                    'IMDB Rating': movie.get('imdbRating')\n",
    "                })\n",
    "    \n",
    "    return movies_in_genre\n",
    "\n",
    "def recommend_movie():\n",
    "    genre = input(\"Enter a movie genre (e.g., Action, Drama, Comedy): \").strip()\n",
    "    movies = fetch_movies_by_genre(genre)\n",
    "    \n",
    "    if not movies:\n",
    "        print(f\"Sorry, no movies found for genre '{genre}'.\")\n",
    "        return\n",
    "    \n",
    "    chosen_movie = random.choice(movies)\n",
    "    print(\"Recommended Movie:\")\n",
    "    print(f\"Title: {chosen_movie['Title']}\")\n",
    "    print(f\"Year: {chosen_movie['Year']}\")\n",
    "    print(f\"Genre: {chosen_movie['Genre']}\")\n",
    "    print(f\"IMDB Rating: {chosen_movie['IMDB Rating']}\")\n",
    "    print(f\"Plot: {chosen_movie['Plot']}\")\n",
    "\n",
    "if __name__ == \"__main__\":\n",
    "    recommend_movie()"
   ]
  },
  {
   "cell_type": "markdown",
   "id": "52469755",
   "metadata": {},
   "source": []
  }
 ],
 "metadata": {
  "kernelspec": {
   "display_name": "Python 3",
   "language": "python",
   "name": "python3"
  },
  "language_info": {
   "codemirror_mode": {
    "name": "ipython",
    "version": 3
   },
   "file_extension": ".py",
   "mimetype": "text/x-python",
   "name": "python",
   "nbconvert_exporter": "python",
   "pygments_lexer": "ipython3",
   "version": "3.13.9"
  }
 },
 "nbformat": 4,
 "nbformat_minor": 5
}
