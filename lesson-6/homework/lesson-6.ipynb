{
 "cells": [
  {
   "cell_type": "markdown",
   "id": "7f8b9ed9",
   "metadata": {},
   "source": [
    "\n",
    "\n",
    "\n",
    "\n",
    "\n",
    "\n",
    "\n",
    "\n",
    "\n",
    "\n",
    "\n",
    "\n",
    "\n",
    "\n",
    "\n"
   ]
  },
  {
   "cell_type": "markdown",
   "id": "ad6538d1",
   "metadata": {},
   "source": [
    "Modify String with Underscores\n",
    "Given a string txt, insert an underscore (_) after every third character. If a character is a vowel or already has an underscore after it, shift the underscore placement to the next character. No underscore should be added at the end.\n",
    "\n",
    "Examples\n",
    "Input: hello Output: hel_lo\n",
    "\n",
    "Input: assalom Output: ass_alom\n",
    "\n",
    "Input: abcabcabcdeabcdefabcdefg Output: abc_abc_abcd_abcd_abcdef\n",
    "\n"
   ]
  },
  {
   "cell_type": "code",
   "execution_count": 242,
   "id": "05c9557a",
   "metadata": {},
   "outputs": [
    {
     "name": "stdout",
     "output_type": "stream",
     "text": [
      "['a', 'b', '_', '_', '_', '_', '_', '_', '_', '_', '_', '_', '_', '_', '_', '_', '_', '_', '_', '_', '_', '_', '_', '_', '_', '_', '_', '_', '_', '_', '_', '_', '_', '_', '_', '_', '_', '_', '_', '_', '_', '_', '_', '_', '_', '_', '_', '_', '_', '_', '_', '_', '_', '_', '_', '_', '_', '_', '_', '_', '_', '_', '_', '_', '_', '_', '_', '_', '_', '_', '_', '_', '_', '_', '_', '_', '_', '_', '_', '_', '_', '_', '_', '_', '_', '_', '_', '_', '_', '_', '_', '_', '_', '_', '_', '_', '_', '_', '_', '_', '_', '_', '_', '_', '_', '_', '_', '_', '_', '_', '_', '_', '_', '_', '_', '_', '_', '_', '_', '_', '_', '_', '_', '_', '_', '_', '_', '_', '_', '_', '_', '_', '_', '_', '_', '_', '_', '_', '_', '_', '_', '_', '_', '_', '_', '_', '_', '_', '_', '_', '_', '_', '_', '_', '_', '_', '_', '_', '_', '_', '_', '_', '_', '_', '_', '_', '_', '_', '_', '_', '_', '_', '_', '_', '_', '_', '_', '_', '_', '_', '_', '_', '_', '_', '_', '_', '_', '_', '_', '_', '_', '_', '_', '_', '_', '_', '_', '_', '_', '_', '_', '_', '_', '_', '_', '_', '_', '_', '_', '_', '_', '_', '_', '_', '_', '_', '_', '_', '_', '_', '_', '_', '_', '_', '_', '_', '_', '_', '_', '_', '_', '_', '_', '_', '_', '_', '_', '_', '_', '_', '_', '_', '_', '_', '_', '_', '_', '_', '_', '_', '_', '_', '_', '_', '_', '_', '_', '_', '_', '_', '_', '_', '_', '_', '_', '_', '_', '_', '_', '_', '_', '_', '_', '_', '_', '_', '_', '_', '_', '_', '_', '_', '_', '_', '_', '_', '_', '_', '_', '_', '_', '_', '_', '_', '_', '_', '_', '_', '_', '_', '_', '_', '_', '_', '_', '_', '_', '_', '_', '_', '_', '_', '_', '_', '_', '_', '_', '_', '_', '_', '_', '_', '_', '_', '_', '_', '_', '_', '_', '_', '_', '_', '_', '_', '_', '_', '_', '_', '_', '_', '_', '_', '_', '_', '_', '_', '_', '_', '_', '_', '_', '_', '_', '_', '_', '_', '_', '_', '_', '_', '_', '_', '_', '_', '_', '_', '_', '_', '_', '_', '_', '_', '_', '_', '_', '_', '_', '_', '_', '_', '_', '_', '_', '_', '_', '_', '_', '_', '_', '_', '_', '_', '_', '_', '_', '_', '_', '_', '_', '_', '_', '_', '_', '_', '_', '_', '_', '_', '_', '_', '_', '_', '_', '_', '_', '_', '_', '_', '_', '_', '_', '_', '_', '_', '_', '_', '_', '_', '_', '_', '_', '_', '_', '_', '_', '_', '_', '_', '_', '_', '_', '_', '_', '_', '_', '_', '_', '_', '_', '_', '_', '_', '_', '_', '_', '_', '_', '_', '_', '_', '_', '_', '_', '_', '_', '_', '_', '_', '_', '_', '_', '_', '_', '_', '_', '_', '_', '_', '_', '_', '_', '_', '_', '_', '_', '_', '_', '_', '_', '_', '_', '_', '_', '_', '_', '_', '_', '_', '_', '_', '_', '_', '_', '_', '_', '_', '_', '_', '_', '_', '_', '_', '_', '_', '_', '_', '_', '_', '_', '_', '_', '_', '_', '_', '_', '_', '_', '_', '_', '_', '_', '_', '_', '_', '_', '_', '_', '_', '_', '_', '_', '_', '_', '_', '_', '_', '_', '_', '_', '_', '_', '_', '_', '_', '_', '_', '_', '_', '_', '_', '_', '_', '_', '_', '_', '_', '_', '_', '_', '_', '_', '_', '_', '_', '_', '_', '_', '_', '_', '_', '_', '_', '_', '_', '_', '_', '_', '_', '_', '_', '_', '_', '_', '_', '_', '_', '_', '_', '_', '_', '_', '_', '_', '_', '_', '_', '_', '_', '_', '_', '_', '_', '_', '_', '_', '_', '_', '_', '_', '_', '_', '_', '_', '_', '_', '_', '_', '_', '_', '_', '_', '_', '_', '_', '_', '_', '_', '_', '_', '_', '_', '_', '_', '_', '_', '_', '_', '_', '_', '_', '_', '_', '_', '_', '_', '_', '_', '_', '_', '_', '_', '_', '_', '_', '_', '_', '_', '_', '_', '_', '_', '_', '_', '_', '_', '_', '_', '_', '_', '_', '_', '_', '_', '_', '_', '_', '_', '_', '_', '_', '_', '_', '_', '_', '_', '_', '_', '_', '_', '_', '_', '_', '_', '_', '_', '_', '_', '_', '_', '_', '_', '_', '_', '_', '_', '_', '_', '_', '_', '_', '_', '_', '_', '_', '_', '_', '_', '_', '_', '_', '_', '_', '_', '_', '_', '_', '_', '_', '_', '_', '_', '_', '_', '_', '_', '_', '_', '_', '_', '_', '_', '_', '_', '_', '_', '_', '_', '_', '_', '_', '_', '_', '_', '_', '_', '_', '_', '_', '_', '_', '_', '_', '_', '_', '_', '_', '_', '_', '_', '_', '_', '_', '_', '_', '_', '_', '_', '_', '_', '_', '_', '_', '_', '_', '_', '_', '_', '_', '_', '_', '_', '_', '_', '_', '_', '_', '_', '_', '_', '_', '_', '_', '_', '_', '_', '_', '_', '_', '_', '_', '_', '_', '_', '_', '_', '_', '_', '_', '_', '_', '_', '_', '_', '_', '_', '_', '_', '_', '_', '_', '_', '_', '_', '_', '_', '_', '_', '_', '_', '_', '_', '_', 'c', 'a', 'b', 'c', 'a', 'b', 'c', 'd', 'e', 'a', 'b', 'c', 'd', 'e', 'f', 'a', 'b', 'c', 'd', 'e', 'f']\n",
      "ab__________________________________________________________________________________________________________________________________________________________________________________________________________________________________________________________________________________________________________________________________________________________________________________________________________________________________________________________________________________________________________________________________________________________________________________________________________________________________________________________________________________________________________________________________________________________________________________________________________________________________________________________________________________cabcabcdeabcdefabcdef\n"
     ]
    }
   ],
   "source": [
    "text=\"abcabcabcdeabcdefabcdefg\"\n",
    "list=[]\n",
    "text1=\"\"\n",
    "for i in range(0,len(text)-1):\n",
    "    list.append(text[i])\n",
    "    for x in range(0,len(list)-3):\n",
    "        if (x+1)%3==0:\n",
    "            list.insert(x,\"_\")\n",
    "        else:\n",
    "            list[x]=list[x]\n",
    "            \n",
    "for i in range(0,len(list)):\n",
    "    text1=text1+list[i]   \n",
    "print(list)\n",
    "print(text1)"
   ]
  },
  {
   "cell_type": "code",
   "execution_count": 28,
   "id": "76f65f05",
   "metadata": {},
   "outputs": [
    {
     "name": "stdout",
     "output_type": "stream",
     "text": [
      "0\n",
      "\n",
      "1\n",
      "\n"
     ]
    }
   ],
   "source": [
    "a=range(0,len(\"asd\")-1)\n",
    "a\n",
    "for i in a:\n",
    "    print (i)\n",
    "    print(ftext)\n",
    "\n"
   ]
  },
  {
   "cell_type": "markdown",
   "id": "477f5200",
   "metadata": {},
   "source": [
    "2. Integer Squares Exercise\n",
    "Task\n",
    "The provided code stub reads an integer, n, from STDIN. For all non-negative integers i where 0 <= i < n, print i^2.\n",
    "\n",
    "Example Input\n",
    "5\n",
    "Example Output\n",
    "0\n",
    "1\n",
    "4\n",
    "9\n",
    "16\n",
    "Input Format\n",
    "The first and only line contains the integer, n.\n",
    "\n",
    "Constraints\n",
    "1 <= n <= 20\n",
    "Output Format\n",
    "Print n lines, one corresponding to each i^2 where 0 <= i < n."
   ]
  },
  {
   "cell_type": "code",
   "execution_count": null,
   "id": "8bd92287",
   "metadata": {},
   "outputs": [],
   "source": [
    "def square(n:int):\n",
    "    if not isinstance(n,int) and n<0:\n",
    "        raise ValueError(\"Aint no way\")\n",
    "    else:\n",
    "        for i in range(1,n+1):\n",
    "            print(i**2)\n",
    "a=square(30)\n",
    "print(a)"
   ]
  },
  {
   "cell_type": "markdown",
   "id": "5f3a2a68",
   "metadata": {},
   "source": [
    "3. Loop-Based Exercises\n",
    "Exercise 1: Print first 10 natural numbers using a while loop\n",
    "Exercise 2: Print the following pattern\n",
    "1\n",
    "1 2\n",
    "1 2 3\n",
    "1 2 3 4\n",
    "1 2 3 4 5\n"
   ]
  },
  {
   "cell_type": "code",
   "execution_count": 15,
   "id": "03aab752",
   "metadata": {},
   "outputs": [
    {
     "name": "stdout",
     "output_type": "stream",
     "text": [
      "[1]\n",
      "[1, 2]\n",
      "[1, 2, 3]\n",
      "[1, 2, 3, 4]\n",
      "[1, 2, 3, 4, 5]\n",
      "[1, 2, 3, 4, 5, 6]\n",
      "[1, 2, 3, 4, 5, 6, 7]\n",
      "[1, 2, 3, 4, 5, 6, 7, 8]\n",
      "[1, 2, 3, 4, 5, 6, 7, 8, 9]\n",
      "[1, 2, 3, 4, 5, 6, 7, 8, 9, 10]\n"
     ]
    }
   ],
   "source": [
    "n=1\n",
    "list=[]\n",
    "while n<=10:\n",
    "    list.append(n)\n",
    "    print(list)\n",
    "    n+=1\n"
   ]
  },
  {
   "cell_type": "markdown",
   "id": "25bb7f72",
   "metadata": {},
   "source": [
    "Exercise 3: Calculate sum of all numbers from 1 to a given number\n",
    "Example:\n",
    "\n",
    "Enter number 10\n",
    "Sum is: 55"
   ]
  },
  {
   "cell_type": "code",
   "execution_count": null,
   "id": "a1dfcc48",
   "metadata": {},
   "outputs": [
    {
     "data": {
      "text/plain": [
       "55"
      ]
     },
     "execution_count": 29,
     "metadata": {},
     "output_type": "execute_result"
    }
   ],
   "source": [
    "\n",
    "def sum_of_number(number:int):\n",
    "    num=0\n",
    "    if not isinstance(number,int) or number<0:\n",
    "        raise ValueError(\"Not a number\")\n",
    "    else:\n",
    "        for i in range(1,number+1):\n",
    "            num=num+i\n",
    "    return num\n",
    "\n",
    "\n",
    "sum_of_number(10)\n",
    "\n"
   ]
  },
  {
   "cell_type": "markdown",
   "id": "b44faca8",
   "metadata": {},
   "source": [
    "Exercise 4: Print multiplication table of a given number\n",
    "Example:\n",
    "\n",
    "2\n",
    "4\n",
    "6\n",
    "8\n",
    "10\n",
    "12\n",
    "14\n",
    "16\n",
    "18\n",
    "20"
   ]
  },
  {
   "cell_type": "code",
   "execution_count": null,
   "id": "a2203c49",
   "metadata": {},
   "outputs": [
    {
     "name": "stdout",
     "output_type": "stream",
     "text": [
      "3\n",
      "6\n",
      "9\n",
      "12\n",
      "15\n",
      "18\n",
      "21\n",
      "24\n",
      "27\n",
      "30\n"
     ]
    }
   ],
   "source": [
    "def multitable(number:int):\n",
    "    if not isinstance(number,int) or number<0:\n",
    "        raise ValueError(\"Not a number\")\n",
    "    else:\n",
    "        for i in range(1,10+1):\n",
    "            print(number*i)\n",
    "   \n",
    "\n",
    "\n",
    "multitable(3)"
   ]
  },
  {
   "cell_type": "markdown",
   "id": "69f7bfbf",
   "metadata": {},
   "source": [
    "Exercise 5: Display numbers from a list using a loop\n",
    "Given:\n",
    "\n",
    "numbers = [12, 75, 150, 180, 145, 525, 50]\n",
    "Expected Output:\n",
    "\n",
    "75\n",
    "150\n",
    "145"
   ]
  },
  {
   "cell_type": "code",
   "execution_count": null,
   "id": "46bdedc1",
   "metadata": {},
   "outputs": [],
   "source": [
    "numbers = [12, 75, 150, 180, 145, 525, 50]\n",
    "for i in range(0,len(numbers)):\n",
    "    print(numbers[i])\n",
    "    "
   ]
  },
  {
   "cell_type": "markdown",
   "id": "01c9d29d",
   "metadata": {},
   "source": [
    "Exercise 6: Count the total number of digits in a number\n",
    "Example:\n",
    "\n",
    "75869\n",
    "Output: 5"
   ]
  },
  {
   "cell_type": "code",
   "execution_count": null,
   "id": "29e618c9",
   "metadata": {},
   "outputs": [
    {
     "name": "stdout",
     "output_type": "stream",
     "text": [
      "15\n"
     ]
    }
   ],
   "source": [
    "def count_num(num:int):\n",
    "    if not isinstance(num,int):\n",
    "        raise ValueError(\"Not really a number\")\n",
    "    else:\n",
    "        print(len (str(num)))\n",
    "count_num(123124123123123)\n"
   ]
  },
  {
   "cell_type": "markdown",
   "id": "05ee91fb",
   "metadata": {},
   "source": [
    "Exercise 7: Print reverse number pattern\n",
    "5 4 3 2 1\n",
    "4 3 2 1\n",
    "3 2 1\n",
    "2 1\n",
    "1"
   ]
  },
  {
   "cell_type": "code",
   "execution_count": null,
   "id": "0766597f",
   "metadata": {},
   "outputs": [],
   "source": [
    "def reverse_uno(num:int):\n",
    "    stri=\"\"\n",
    "    if not isinstance(num,int):\n",
    "        raise ValueError(\"NOOOOOOO\")\n",
    "    else:\n",
    "        for i in range(1,num+1):\n",
    "        \n",
    "            stri=stri+\" \"+str(i)\n",
    "            print(stri[::-1])\n",
    "reverse_uno(10)\n"
   ]
  },
  {
   "cell_type": "code",
   "execution_count": null,
   "id": "a040732d",
   "metadata": {},
   "outputs": [],
   "source": [
    "def reverse_uno(num:int):\n",
    "    stri=[]\n",
    "    if not isinstance(num,int):\n",
    "        raise ValueError(\"NOOOOOOO\")\n",
    "    else:\n",
    "        for i in range(1,num+1):\n",
    "            stri.append(i)\n",
    "        for i in range(1,num+1):\n",
    "            print(stri[::-1])\n",
    "            stri.remove(stri[len(stri)-1])\n",
    "                     \n",
    "\n",
    "reverse_uno(10)\n"
   ]
  },
  {
   "cell_type": "markdown",
   "id": "70e2838c",
   "metadata": {},
   "source": [
    "Exercise 8: Print list in reverse order using a loop\n",
    "Given:\n",
    "\n",
    "list1 = [10, 20, 30, 40, 50]\n",
    "Expected Output:\n",
    "\n",
    "50\n",
    "40\n",
    "30\n",
    "20\n",
    "10"
   ]
  },
  {
   "cell_type": "code",
   "execution_count": 99,
   "id": "e1a57004",
   "metadata": {},
   "outputs": [
    {
     "data": {
      "text/plain": [
       "[50, 40, 30, 20, 10]"
      ]
     },
     "execution_count": 99,
     "metadata": {},
     "output_type": "execute_result"
    }
   ],
   "source": [
    "list1 = [10, 20, 30, 40, 50]\n",
    "\n",
    "list1[::-1]"
   ]
  },
  {
   "cell_type": "markdown",
   "id": "0a23ae0b",
   "metadata": {},
   "source": [
    "Exercise 9: Display numbers from -10 to -1 using a for loop\n",
    "-10\n",
    "-9\n",
    "-8\n",
    "-7\n",
    "-6\n",
    "-5\n",
    "-4\n",
    "-3\n",
    "-2\n",
    "-1"
   ]
  },
  {
   "cell_type": "code",
   "execution_count": 100,
   "id": "2ff8ec8f",
   "metadata": {},
   "outputs": [
    {
     "name": "stdout",
     "output_type": "stream",
     "text": [
      "-10\n",
      "-9\n",
      "-8\n",
      "-7\n",
      "-6\n",
      "-5\n",
      "-4\n",
      "-3\n",
      "-2\n",
      "-1\n"
     ]
    }
   ],
   "source": [
    "for i in range(-10,0):\n",
    "    print(i)"
   ]
  },
  {
   "cell_type": "markdown",
   "id": "3fad43b9",
   "metadata": {},
   "source": [
    "Exercise 10: Display message “Done” after successful loop execution\n",
    "Example:\n",
    "\n",
    "0\n",
    "1\n",
    "2\n",
    "3\n",
    "4"
   ]
  },
  {
   "cell_type": "code",
   "execution_count": null,
   "id": "d7d960d4",
   "metadata": {},
   "outputs": [],
   "source": [
    "def done(n:int):\n",
    "    for i in range(0,n+1):\n",
    "        print(i)\n",
    "    print(\"Done!\")\n",
    "done(20)"
   ]
  },
  {
   "cell_type": "markdown",
   "id": "e4ec39bc",
   "metadata": {},
   "source": [
    "Exercise 11: Print all prime numbers within a range\n",
    "Example:\n",
    "\n",
    "Prime numbers between 25 and 50:\n",
    "29\n",
    "31\n",
    "37\n",
    "41\n",
    "43\n",
    "47\n"
   ]
  },
  {
   "cell_type": "code",
   "execution_count": null,
   "id": "e8d06e16",
   "metadata": {},
   "outputs": [],
   "source": [
    "def prime(beg:int,end:int):\n",
    "    for i in range (beg,end+1):\n",
    "        for x in range(2,i):\n",
    "            ret=False\n",
    "            if i%x==0:\n",
    "                ret=True         \n",
    "                break\n",
    "            elif x==i-1 and ret==False:\n",
    "                print(i)\n",
    "                break\n",
    "\n",
    "                \n",
    "\n",
    "\n",
    "            \n",
    "print(2)\n",
    "prime(1,100)\n"
   ]
  },
  {
   "cell_type": "code",
   "execution_count": null,
   "id": "06482c2b",
   "metadata": {},
   "outputs": [],
   "source": [
    "\n"
   ]
  },
  {
   "cell_type": "markdown",
   "id": "4508c197",
   "metadata": {},
   "source": [
    "Exercise 12: Display Fibonacci series up to 10 terms\n",
    "Example:\n",
    "\n",
    "Fibonacci sequence:\n",
    "0  1  1  2  3  5  8  13  21  34"
   ]
  },
  {
   "cell_type": "code",
   "execution_count": 140,
   "id": "b364b433",
   "metadata": {},
   "outputs": [
    {
     "name": "stdout",
     "output_type": "stream",
     "text": [
      "[0, 1, 1, 2, 3, 5, 8, 13, 21, 34, 55, 89, 144, 233, 377, 610, 987]\n"
     ]
    }
   ],
   "source": [
    "t=0\n",
    "l=[0,1]\n",
    "while t<15:\n",
    "    l.append(l[t]+l[t+1])\n",
    "    t+=1\n",
    "print(l)\n",
    "#Perfect\n",
    "    \n",
    "    \n",
    "    \n",
    "\n",
    "    \n",
    "\n",
    "\n",
    "    \n"
   ]
  },
  {
   "cell_type": "markdown",
   "id": "7828b9c3",
   "metadata": {},
   "source": [
    "Exercise 13: Find the factorial of a given number\n",
    "Example:\n",
    "\n",
    "5! = 120"
   ]
  },
  {
   "cell_type": "code",
   "execution_count": null,
   "id": "795dbc45",
   "metadata": {},
   "outputs": [
    {
     "name": "stdout",
     "output_type": "stream",
     "text": [
      "120\n"
     ]
    }
   ],
   "source": [
    "def factorial(num:int):\n",
    "    number=1\n",
    "    if not isinstance(num,int):\n",
    "        raise ValueError(\"No good\")\n",
    "    else:\n",
    "        for i in range (1,num+1):\n",
    "            number=number*i\n",
    "        return number\n",
    "\n",
    "b=factorial(5)\n",
    "print(b)"
   ]
  },
  {
   "cell_type": "markdown",
   "id": "72a3d6c2",
   "metadata": {},
   "source": [
    "\n",
    "4. Return Uncommon Elements of Lists\n",
    "Task\n",
    "Return the elements that are not common between two lists. The order of elements does not matter.\n",
    "\n",
    "Examples\n",
    "Input: list1 = [1, 1, 2], list2 = [2, 3, 4]\n",
    "Output: [1, 1, 3, 4]\n",
    "\n",
    "Input: list1 = [1, 2, 3], list2 = [4, 5, 6]\n",
    "Output: [1, 2, 3, 4, 5, 6]\n",
    "\n",
    "Input: list1 = [1, 1, 2, 3, 4, 2], list2 = [1, 3, 4, 5]\n",
    "Output: [2, 2, 5]"
   ]
  },
  {
   "cell_type": "code",
   "execution_count": 216,
   "id": "a3f9a797",
   "metadata": {},
   "outputs": [
    {
     "name": "stdout",
     "output_type": "stream",
     "text": [
      "[2, 2, 5]\n"
     ]
    }
   ],
   "source": [
    "list1 = [1, 1, 2, 3, 4, 2] \n",
    "list2 = [1, 3, 4, 5]\n",
    "for x in range(0,len(list2)):\n",
    "    if list2[x] not in list1:\n",
    "        list1.append(list2[x])\n",
    "    else:\n",
    "        while list2[x] in list1:\n",
    "            list1.remove(list2[x])\n",
    "\n",
    "        \n",
    "        \n",
    "\n",
    "            \n",
    "    \n",
    "print(list1)        "
   ]
  },
  {
   "cell_type": "code",
   "execution_count": 201,
   "id": "218de3c3",
   "metadata": {},
   "outputs": [
    {
     "data": {
      "text/plain": [
       "[3, 5]"
      ]
     },
     "execution_count": 201,
     "metadata": {},
     "output_type": "execute_result"
    }
   ],
   "source": [
    "list2"
   ]
  }
 ],
 "metadata": {
  "kernelspec": {
   "display_name": "Python 3",
   "language": "python",
   "name": "python3"
  },
  "language_info": {
   "codemirror_mode": {
    "name": "ipython",
    "version": 3
   },
   "file_extension": ".py",
   "mimetype": "text/x-python",
   "name": "python",
   "nbconvert_exporter": "python",
   "pygments_lexer": "ipython3",
   "version": "3.13.7"
  }
 },
 "nbformat": 4,
 "nbformat_minor": 5
}
